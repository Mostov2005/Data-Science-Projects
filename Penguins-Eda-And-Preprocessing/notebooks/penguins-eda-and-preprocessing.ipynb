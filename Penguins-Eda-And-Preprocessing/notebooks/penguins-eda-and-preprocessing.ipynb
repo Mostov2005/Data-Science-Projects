{
 "cells": [
  {
   "cell_type": "markdown",
   "id": "123b7a18",
   "metadata": {
    "id": "ek3BT95McEbs",
    "papermill": {
     "duration": 0.019788,
     "end_time": "2025-06-10T12:54:47.739722",
     "exception": false,
     "start_time": "2025-06-10T12:54:47.719934",
     "status": "completed"
    },
    "tags": []
   },
   "source": [
    "# Palmer Penguins: EDA and Preprocessing\n",
    "1.   Первичный статистический анализ данных\n",
    "2.   Анализ пропущенных значений\n",
    "3.   Визуализация распределений признаков\n",
    "4.   Выявление аномалий и выбросов\n",
    "5.   Исследование взаимосвязей признаков\n",
    "6.   Построение тепловой карты корреляций\n",
    "7.   Заполнение пропущенных значений\n",
    "8.   Демонстрация результатов заполнения\n",
    "9.   Применение нормализации данных\n",
    "10.  Кодирование категориальных признаков\n",
    "11.  Применение метода главных компонент"
   ]
  },
  {
   "cell_type": "markdown",
   "id": "122c8ace",
   "metadata": {
    "id": "P0J8kjNyclyL",
    "papermill": {
     "duration": 0.017269,
     "end_time": "2025-06-10T12:54:47.776135",
     "exception": false,
     "start_time": "2025-06-10T12:54:47.758866",
     "status": "completed"
    },
    "tags": []
   },
   "source": [
    "## Импорт библиотек\n"
   ]
  },
  {
   "cell_type": "code",
   "execution_count": 1,
   "id": "e8630915",
   "metadata": {
    "execution": {
     "iopub.execute_input": "2025-06-10T12:54:47.813424Z",
     "iopub.status.busy": "2025-06-10T12:54:47.813107Z",
     "iopub.status.idle": "2025-06-10T12:54:52.501098Z",
     "shell.execute_reply": "2025-06-10T12:54:52.500069Z"
    },
    "id": "xt3Ve_pJGDlK",
    "papermill": {
     "duration": 4.708843,
     "end_time": "2025-06-10T12:54:52.503053",
     "exception": false,
     "start_time": "2025-06-10T12:54:47.794210",
     "status": "completed"
    },
    "tags": []
   },
   "outputs": [],
   "source": [
    "import warnings\n",
    "import pandas as pd\n",
    "import numpy as np\n",
    "\n",
    "import matplotlib.pyplot as plt\n",
    "import seaborn as sns\n",
    "\n",
    "from sklearn.preprocessing import MinMaxScaler\n",
    "from sklearn.preprocessing import LabelEncoder\n",
    "from sklearn.decomposition import PCA"
   ]
  },
  {
   "cell_type": "code",
   "execution_count": 2,
   "id": "24fd8805",
   "metadata": {
    "execution": {
     "iopub.execute_input": "2025-06-10T12:54:52.541936Z",
     "iopub.status.busy": "2025-06-10T12:54:52.541439Z",
     "iopub.status.idle": "2025-06-10T12:54:52.546432Z",
     "shell.execute_reply": "2025-06-10T12:54:52.545382Z"
    },
    "papermill": {
     "duration": 0.027045,
     "end_time": "2025-06-10T12:54:52.548122",
     "exception": false,
     "start_time": "2025-06-10T12:54:52.521077",
     "status": "completed"
    },
    "tags": []
   },
   "outputs": [],
   "source": [
    "warnings.filterwarnings(\"ignore\")"
   ]
  },
  {
   "cell_type": "markdown",
   "id": "cef49b41",
   "metadata": {
    "id": "FlDdWUB9cvYz",
    "papermill": {
     "duration": 0.017878,
     "end_time": "2025-06-10T12:54:52.584211",
     "exception": false,
     "start_time": "2025-06-10T12:54:52.566333",
     "status": "completed"
    },
    "tags": []
   },
   "source": [
    "## Загрузка датасета"
   ]
  },
  {
   "cell_type": "code",
   "execution_count": 3,
   "id": "a00aa9c3",
   "metadata": {
    "execution": {
     "iopub.execute_input": "2025-06-10T12:54:52.689265Z",
     "iopub.status.busy": "2025-06-10T12:54:52.688916Z",
     "iopub.status.idle": "2025-06-10T12:54:52.711157Z",
     "shell.execute_reply": "2025-06-10T12:54:52.710248Z"
    },
    "id": "0iNmMrHtGiwy",
    "papermill": {
     "duration": 0.042725,
     "end_time": "2025-06-10T12:54:52.712838",
     "exception": false,
     "start_time": "2025-06-10T12:54:52.670113",
     "status": "completed"
    },
    "tags": []
   },
   "outputs": [],
   "source": [
    "df_origin = pd.read_csv('/kaggle/input/palmer-penguins-datasetalternative-iris-dataset/penguins.csv')"
   ]
  },
  {
   "cell_type": "code",
   "execution_count": 4,
   "id": "7da17442",
   "metadata": {
    "execution": {
     "iopub.execute_input": "2025-06-10T12:54:52.750729Z",
     "iopub.status.busy": "2025-06-10T12:54:52.750383Z",
     "iopub.status.idle": "2025-06-10T12:54:52.781709Z",
     "shell.execute_reply": "2025-06-10T12:54:52.780703Z"
    },
    "papermill": {
     "duration": 0.052426,
     "end_time": "2025-06-10T12:54:52.783495",
     "exception": false,
     "start_time": "2025-06-10T12:54:52.731069",
     "status": "completed"
    },
    "tags": []
   },
   "outputs": [
    {
     "data": {
      "text/html": [
       "<div>\n",
       "<style scoped>\n",
       "    .dataframe tbody tr th:only-of-type {\n",
       "        vertical-align: middle;\n",
       "    }\n",
       "\n",
       "    .dataframe tbody tr th {\n",
       "        vertical-align: top;\n",
       "    }\n",
       "\n",
       "    .dataframe thead th {\n",
       "        text-align: right;\n",
       "    }\n",
       "</style>\n",
       "<table border=\"1\" class=\"dataframe\">\n",
       "  <thead>\n",
       "    <tr style=\"text-align: right;\">\n",
       "      <th></th>\n",
       "      <th>species</th>\n",
       "      <th>island</th>\n",
       "      <th>bill_length_mm</th>\n",
       "      <th>bill_depth_mm</th>\n",
       "      <th>flipper_length_mm</th>\n",
       "      <th>body_mass_g</th>\n",
       "      <th>sex</th>\n",
       "    </tr>\n",
       "  </thead>\n",
       "  <tbody>\n",
       "    <tr>\n",
       "      <th>0</th>\n",
       "      <td>Adelie</td>\n",
       "      <td>Torgersen</td>\n",
       "      <td>39.1</td>\n",
       "      <td>18.7</td>\n",
       "      <td>181.0</td>\n",
       "      <td>3750.0</td>\n",
       "      <td>male</td>\n",
       "    </tr>\n",
       "    <tr>\n",
       "      <th>1</th>\n",
       "      <td>Adelie</td>\n",
       "      <td>Torgersen</td>\n",
       "      <td>39.5</td>\n",
       "      <td>17.4</td>\n",
       "      <td>186.0</td>\n",
       "      <td>3800.0</td>\n",
       "      <td>female</td>\n",
       "    </tr>\n",
       "    <tr>\n",
       "      <th>2</th>\n",
       "      <td>Adelie</td>\n",
       "      <td>Torgersen</td>\n",
       "      <td>40.3</td>\n",
       "      <td>18.0</td>\n",
       "      <td>195.0</td>\n",
       "      <td>3250.0</td>\n",
       "      <td>female</td>\n",
       "    </tr>\n",
       "    <tr>\n",
       "      <th>3</th>\n",
       "      <td>Adelie</td>\n",
       "      <td>Torgersen</td>\n",
       "      <td>NaN</td>\n",
       "      <td>NaN</td>\n",
       "      <td>NaN</td>\n",
       "      <td>NaN</td>\n",
       "      <td>NaN</td>\n",
       "    </tr>\n",
       "    <tr>\n",
       "      <th>4</th>\n",
       "      <td>Adelie</td>\n",
       "      <td>Torgersen</td>\n",
       "      <td>36.7</td>\n",
       "      <td>19.3</td>\n",
       "      <td>193.0</td>\n",
       "      <td>3450.0</td>\n",
       "      <td>female</td>\n",
       "    </tr>\n",
       "  </tbody>\n",
       "</table>\n",
       "</div>"
      ],
      "text/plain": [
       "  species     island  bill_length_mm  bill_depth_mm  flipper_length_mm  \\\n",
       "0  Adelie  Torgersen            39.1           18.7              181.0   \n",
       "1  Adelie  Torgersen            39.5           17.4              186.0   \n",
       "2  Adelie  Torgersen            40.3           18.0              195.0   \n",
       "3  Adelie  Torgersen             NaN            NaN                NaN   \n",
       "4  Adelie  Torgersen            36.7           19.3              193.0   \n",
       "\n",
       "   body_mass_g     sex  \n",
       "0       3750.0    male  \n",
       "1       3800.0  female  \n",
       "2       3250.0  female  \n",
       "3          NaN     NaN  \n",
       "4       3450.0  female  "
      ]
     },
     "execution_count": 4,
     "metadata": {},
     "output_type": "execute_result"
    }
   ],
   "source": [
    "df_origin.head()"
   ]
  },
  {
   "cell_type": "markdown",
   "id": "835ca12c",
   "metadata": {
    "id": "zfW3fzy86-Qw",
    "papermill": {
     "duration": 0.018119,
     "end_time": "2025-06-10T12:54:52.820134",
     "exception": false,
     "start_time": "2025-06-10T12:54:52.802015",
     "status": "completed"
    },
    "tags": []
   },
   "source": [
    "## 1. Первичный статистический анализ данных"
   ]
  },
  {
   "cell_type": "markdown",
   "id": "db1f792f",
   "metadata": {
    "id": "LINtY0OT85w_",
    "papermill": {
     "duration": 0.019074,
     "end_time": "2025-06-10T12:54:52.857715",
     "exception": false,
     "start_time": "2025-06-10T12:54:52.838641",
     "status": "completed"
    },
    "tags": []
   },
   "source": [
    "### Длина клюва в миллиметрах"
   ]
  },
  {
   "cell_type": "code",
   "execution_count": 5,
   "id": "19c3e3bf",
   "metadata": {
    "execution": {
     "iopub.execute_input": "2025-06-10T12:54:52.896808Z",
     "iopub.status.busy": "2025-06-10T12:54:52.896453Z",
     "iopub.status.idle": "2025-06-10T12:54:52.902489Z",
     "shell.execute_reply": "2025-06-10T12:54:52.901400Z"
    },
    "id": "hiMaGuYq6_i5",
    "papermill": {
     "duration": 0.02792,
     "end_time": "2025-06-10T12:54:52.904173",
     "exception": false,
     "start_time": "2025-06-10T12:54:52.876253",
     "status": "completed"
    },
    "tags": []
   },
   "outputs": [],
   "source": [
    "bill_length_mm = df_origin['bill_length_mm']"
   ]
  },
  {
   "cell_type": "code",
   "execution_count": 6,
   "id": "ecd848a4",
   "metadata": {
    "execution": {
     "iopub.execute_input": "2025-06-10T12:54:52.945087Z",
     "iopub.status.busy": "2025-06-10T12:54:52.944786Z",
     "iopub.status.idle": "2025-06-10T12:54:52.953305Z",
     "shell.execute_reply": "2025-06-10T12:54:52.952131Z"
    },
    "id": "2DSARTya8wdg",
    "outputId": "d1514164-bc74-48a8-8a29-498ecc5ce8c3",
    "papermill": {
     "duration": 0.032805,
     "end_time": "2025-06-10T12:54:52.955776",
     "exception": false,
     "start_time": "2025-06-10T12:54:52.922971",
     "status": "completed"
    },
    "tags": []
   },
   "outputs": [
    {
     "data": {
      "text/plain": [
       "(32.1, 59.6, 43.92192982456141, 44.45)"
      ]
     },
     "execution_count": 6,
     "metadata": {},
     "output_type": "execute_result"
    }
   ],
   "source": [
    "bill_length_mm.min(), bill_length_mm.max(), bill_length_mm.mean(), bill_length_mm.median()"
   ]
  },
  {
   "cell_type": "markdown",
   "id": "de194d28",
   "metadata": {
    "id": "4sNxzR0d89mX",
    "papermill": {
     "duration": 0.018701,
     "end_time": "2025-06-10T12:54:52.993492",
     "exception": false,
     "start_time": "2025-06-10T12:54:52.974791",
     "status": "completed"
    },
    "tags": []
   },
   "source": [
    "### Глубина (высота) клюва в миллиметрах."
   ]
  },
  {
   "cell_type": "code",
   "execution_count": 7,
   "id": "db5a817b",
   "metadata": {
    "execution": {
     "iopub.execute_input": "2025-06-10T12:54:53.033609Z",
     "iopub.status.busy": "2025-06-10T12:54:53.033273Z",
     "iopub.status.idle": "2025-06-10T12:54:53.038543Z",
     "shell.execute_reply": "2025-06-10T12:54:53.037002Z"
    },
    "id": "nYHlpv3j8-fA",
    "papermill": {
     "duration": 0.028051,
     "end_time": "2025-06-10T12:54:53.040153",
     "exception": false,
     "start_time": "2025-06-10T12:54:53.012102",
     "status": "completed"
    },
    "tags": []
   },
   "outputs": [],
   "source": [
    "bill_depth_mm = df_origin['bill_depth_mm']"
   ]
  },
  {
   "cell_type": "code",
   "execution_count": 8,
   "id": "4fbd1b97",
   "metadata": {
    "execution": {
     "iopub.execute_input": "2025-06-10T12:54:53.080295Z",
     "iopub.status.busy": "2025-06-10T12:54:53.079744Z",
     "iopub.status.idle": "2025-06-10T12:54:53.086587Z",
     "shell.execute_reply": "2025-06-10T12:54:53.085579Z"
    },
    "id": "ywzEg0hl-CzI",
    "outputId": "8faef5b6-b480-41c4-c8d1-5ab5c3f89b84",
    "papermill": {
     "duration": 0.027986,
     "end_time": "2025-06-10T12:54:53.088258",
     "exception": false,
     "start_time": "2025-06-10T12:54:53.060272",
     "status": "completed"
    },
    "tags": []
   },
   "outputs": [
    {
     "data": {
      "text/plain": [
       "(13.1, 21.5, 17.151169590643278, 17.3)"
      ]
     },
     "execution_count": 8,
     "metadata": {},
     "output_type": "execute_result"
    }
   ],
   "source": [
    "bill_depth_mm.min(), bill_depth_mm.max(), bill_depth_mm.mean(), bill_depth_mm.median()"
   ]
  },
  {
   "cell_type": "markdown",
   "id": "3fabb406",
   "metadata": {
    "id": "ZC9kPGCY-GeP",
    "papermill": {
     "duration": 0.019411,
     "end_time": "2025-06-10T12:54:53.126902",
     "exception": false,
     "start_time": "2025-06-10T12:54:53.107491",
     "status": "completed"
    },
    "tags": []
   },
   "source": [
    "### Длина ластов в миллиметрах\n",
    "\n"
   ]
  },
  {
   "cell_type": "code",
   "execution_count": 9,
   "id": "a19dfdf7",
   "metadata": {
    "execution": {
     "iopub.execute_input": "2025-06-10T12:54:53.166551Z",
     "iopub.status.busy": "2025-06-10T12:54:53.166181Z",
     "iopub.status.idle": "2025-06-10T12:54:53.171340Z",
     "shell.execute_reply": "2025-06-10T12:54:53.170259Z"
    },
    "id": "U8qHX4vP-GeP",
    "papermill": {
     "duration": 0.026606,
     "end_time": "2025-06-10T12:54:53.172971",
     "exception": false,
     "start_time": "2025-06-10T12:54:53.146365",
     "status": "completed"
    },
    "tags": []
   },
   "outputs": [],
   "source": [
    "flipper_length_mm  = df_origin['flipper_length_mm']"
   ]
  },
  {
   "cell_type": "code",
   "execution_count": 10,
   "id": "b731045c",
   "metadata": {
    "execution": {
     "iopub.execute_input": "2025-06-10T12:54:53.212318Z",
     "iopub.status.busy": "2025-06-10T12:54:53.212021Z",
     "iopub.status.idle": "2025-06-10T12:54:53.218633Z",
     "shell.execute_reply": "2025-06-10T12:54:53.217759Z"
    },
    "id": "DRGmCz5A-GeP",
    "outputId": "baba2f2e-0aeb-4c4b-f5c4-58ce10dbc8b6",
    "papermill": {
     "duration": 0.027909,
     "end_time": "2025-06-10T12:54:53.220144",
     "exception": false,
     "start_time": "2025-06-10T12:54:53.192235",
     "status": "completed"
    },
    "tags": []
   },
   "outputs": [
    {
     "data": {
      "text/plain": [
       "(172.0, 231.0, 200.91520467836258, 197.0)"
      ]
     },
     "execution_count": 10,
     "metadata": {},
     "output_type": "execute_result"
    }
   ],
   "source": [
    "flipper_length_mm .min(), flipper_length_mm .max(), flipper_length_mm .mean(), flipper_length_mm .median()"
   ]
  },
  {
   "cell_type": "markdown",
   "id": "e6125b9f",
   "metadata": {
    "id": "PjbI6Klv-bPw",
    "papermill": {
     "duration": 0.018975,
     "end_time": "2025-06-10T12:54:53.257942",
     "exception": false,
     "start_time": "2025-06-10T12:54:53.238967",
     "status": "completed"
    },
    "tags": []
   },
   "source": [
    "### Масса тела в граммах\n",
    "\n"
   ]
  },
  {
   "cell_type": "code",
   "execution_count": 11,
   "id": "7ee043cf",
   "metadata": {
    "execution": {
     "iopub.execute_input": "2025-06-10T12:54:53.299041Z",
     "iopub.status.busy": "2025-06-10T12:54:53.298452Z",
     "iopub.status.idle": "2025-06-10T12:54:53.303686Z",
     "shell.execute_reply": "2025-06-10T12:54:53.302721Z"
    },
    "id": "_0INpyYQ-bPw",
    "papermill": {
     "duration": 0.027769,
     "end_time": "2025-06-10T12:54:53.305471",
     "exception": false,
     "start_time": "2025-06-10T12:54:53.277702",
     "status": "completed"
    },
    "tags": []
   },
   "outputs": [],
   "source": [
    "body_mass_g = df_origin['body_mass_g']"
   ]
  },
  {
   "cell_type": "code",
   "execution_count": 12,
   "id": "65846ad8",
   "metadata": {
    "execution": {
     "iopub.execute_input": "2025-06-10T12:54:53.346817Z",
     "iopub.status.busy": "2025-06-10T12:54:53.346386Z",
     "iopub.status.idle": "2025-06-10T12:54:53.353566Z",
     "shell.execute_reply": "2025-06-10T12:54:53.352737Z"
    },
    "id": "e6ZVL1-F-bPw",
    "outputId": "7cb92c21-5e59-41c3-ae15-6f9b32d49a83",
    "papermill": {
     "duration": 0.029249,
     "end_time": "2025-06-10T12:54:53.354961",
     "exception": false,
     "start_time": "2025-06-10T12:54:53.325712",
     "status": "completed"
    },
    "tags": []
   },
   "outputs": [
    {
     "data": {
      "text/plain": [
       "(2700.0, 6300.0, 4201.754385964912, 4050.0)"
      ]
     },
     "execution_count": 12,
     "metadata": {},
     "output_type": "execute_result"
    }
   ],
   "source": [
    "body_mass_g.min(), body_mass_g.max(), body_mass_g.mean(), body_mass_g.median()"
   ]
  },
  {
   "cell_type": "markdown",
   "id": "f5169b55",
   "metadata": {
    "id": "5pJL3tUXAPmH",
    "papermill": {
     "duration": 0.018419,
     "end_time": "2025-06-10T12:54:53.392850",
     "exception": false,
     "start_time": "2025-06-10T12:54:53.374431",
     "status": "completed"
    },
    "tags": []
   },
   "source": [
    "### Вид пингвина"
   ]
  },
  {
   "cell_type": "code",
   "execution_count": 13,
   "id": "00a0d00e",
   "metadata": {
    "execution": {
     "iopub.execute_input": "2025-06-10T12:54:53.431360Z",
     "iopub.status.busy": "2025-06-10T12:54:53.431085Z",
     "iopub.status.idle": "2025-06-10T12:54:53.435584Z",
     "shell.execute_reply": "2025-06-10T12:54:53.434441Z"
    },
    "id": "LPMeWvUKAUL3",
    "papermill": {
     "duration": 0.026,
     "end_time": "2025-06-10T12:54:53.437317",
     "exception": false,
     "start_time": "2025-06-10T12:54:53.411317",
     "status": "completed"
    },
    "tags": []
   },
   "outputs": [],
   "source": [
    "species = df_origin['species']"
   ]
  },
  {
   "cell_type": "code",
   "execution_count": 14,
   "id": "837f324e",
   "metadata": {
    "execution": {
     "iopub.execute_input": "2025-06-10T12:54:53.475633Z",
     "iopub.status.busy": "2025-06-10T12:54:53.475371Z",
     "iopub.status.idle": "2025-06-10T12:54:53.485098Z",
     "shell.execute_reply": "2025-06-10T12:54:53.484129Z"
    },
    "id": "aF8_z7m-AFUn",
    "outputId": "7f50a41b-c66b-4f64-9a6d-d0847574adfb",
    "papermill": {
     "duration": 0.03076,
     "end_time": "2025-06-10T12:54:53.486557",
     "exception": false,
     "start_time": "2025-06-10T12:54:53.455797",
     "status": "completed"
    },
    "tags": []
   },
   "outputs": [
    {
     "data": {
      "text/plain": [
       "344"
      ]
     },
     "execution_count": 14,
     "metadata": {},
     "output_type": "execute_result"
    }
   ],
   "source": [
    "species.value_counts().sum()"
   ]
  },
  {
   "cell_type": "code",
   "execution_count": 15,
   "id": "2d0587cb",
   "metadata": {
    "execution": {
     "iopub.execute_input": "2025-06-10T12:54:53.525534Z",
     "iopub.status.busy": "2025-06-10T12:54:53.525184Z",
     "iopub.status.idle": "2025-06-10T12:54:53.532792Z",
     "shell.execute_reply": "2025-06-10T12:54:53.531718Z"
    },
    "id": "fv2luy-WAwFA",
    "outputId": "a54ce56e-9099-4362-e9a0-b91e30a12eb8",
    "papermill": {
     "duration": 0.029134,
     "end_time": "2025-06-10T12:54:53.534595",
     "exception": false,
     "start_time": "2025-06-10T12:54:53.505461",
     "status": "completed"
    },
    "tags": []
   },
   "outputs": [
    {
     "data": {
      "text/plain": [
       "species\n",
       "Adelie       152\n",
       "Gentoo       124\n",
       "Chinstrap     68\n",
       "Name: count, dtype: int64"
      ]
     },
     "execution_count": 15,
     "metadata": {},
     "output_type": "execute_result"
    }
   ],
   "source": [
    "species.value_counts()"
   ]
  },
  {
   "cell_type": "markdown",
   "id": "c5ac8fc4",
   "metadata": {
    "id": "qCE0EcwZA2of",
    "papermill": {
     "duration": 0.021292,
     "end_time": "2025-06-10T12:54:53.575090",
     "exception": false,
     "start_time": "2025-06-10T12:54:53.553798",
     "status": "completed"
    },
    "tags": []
   },
   "source": [
    "### Остров"
   ]
  },
  {
   "cell_type": "code",
   "execution_count": 16,
   "id": "42c23b73",
   "metadata": {
    "execution": {
     "iopub.execute_input": "2025-06-10T12:54:53.616377Z",
     "iopub.status.busy": "2025-06-10T12:54:53.615955Z",
     "iopub.status.idle": "2025-06-10T12:54:53.620499Z",
     "shell.execute_reply": "2025-06-10T12:54:53.619489Z"
    },
    "id": "yIITznSKA2og",
    "papermill": {
     "duration": 0.026838,
     "end_time": "2025-06-10T12:54:53.622520",
     "exception": false,
     "start_time": "2025-06-10T12:54:53.595682",
     "status": "completed"
    },
    "tags": []
   },
   "outputs": [],
   "source": [
    "island = df_origin['island']"
   ]
  },
  {
   "cell_type": "code",
   "execution_count": 17,
   "id": "fd40d7b4",
   "metadata": {
    "execution": {
     "iopub.execute_input": "2025-06-10T12:54:53.661712Z",
     "iopub.status.busy": "2025-06-10T12:54:53.661396Z",
     "iopub.status.idle": "2025-06-10T12:54:53.668382Z",
     "shell.execute_reply": "2025-06-10T12:54:53.667213Z"
    },
    "id": "kSjckKe4A2og",
    "outputId": "d39b16c0-124b-499e-fc95-f417fee8003e",
    "papermill": {
     "duration": 0.028132,
     "end_time": "2025-06-10T12:54:53.669974",
     "exception": false,
     "start_time": "2025-06-10T12:54:53.641842",
     "status": "completed"
    },
    "tags": []
   },
   "outputs": [
    {
     "data": {
      "text/plain": [
       "344"
      ]
     },
     "execution_count": 17,
     "metadata": {},
     "output_type": "execute_result"
    }
   ],
   "source": [
    "island.value_counts().sum()"
   ]
  },
  {
   "cell_type": "code",
   "execution_count": 18,
   "id": "5492b639",
   "metadata": {
    "execution": {
     "iopub.execute_input": "2025-06-10T12:54:53.709796Z",
     "iopub.status.busy": "2025-06-10T12:54:53.709430Z",
     "iopub.status.idle": "2025-06-10T12:54:53.716888Z",
     "shell.execute_reply": "2025-06-10T12:54:53.715906Z"
    },
    "id": "ZrPtgvUaA2og",
    "outputId": "9236baaa-fa2a-4cae-9064-e31f897225cb",
    "papermill": {
     "duration": 0.029481,
     "end_time": "2025-06-10T12:54:53.718442",
     "exception": false,
     "start_time": "2025-06-10T12:54:53.688961",
     "status": "completed"
    },
    "tags": []
   },
   "outputs": [
    {
     "data": {
      "text/plain": [
       "island\n",
       "Biscoe       168\n",
       "Dream        124\n",
       "Torgersen     52\n",
       "Name: count, dtype: int64"
      ]
     },
     "execution_count": 18,
     "metadata": {},
     "output_type": "execute_result"
    }
   ],
   "source": [
    "island.value_counts()"
   ]
  },
  {
   "cell_type": "markdown",
   "id": "170911a9",
   "metadata": {
    "id": "sBB1k3d1BGqw",
    "papermill": {
     "duration": 0.018647,
     "end_time": "2025-06-10T12:54:53.756364",
     "exception": false,
     "start_time": "2025-06-10T12:54:53.737717",
     "status": "completed"
    },
    "tags": []
   },
   "source": [
    "### Пол"
   ]
  },
  {
   "cell_type": "code",
   "execution_count": 19,
   "id": "0e6af322",
   "metadata": {
    "execution": {
     "iopub.execute_input": "2025-06-10T12:54:53.795618Z",
     "iopub.status.busy": "2025-06-10T12:54:53.795347Z",
     "iopub.status.idle": "2025-06-10T12:54:53.799545Z",
     "shell.execute_reply": "2025-06-10T12:54:53.798728Z"
    },
    "id": "swAsFu00BERP",
    "papermill": {
     "duration": 0.025291,
     "end_time": "2025-06-10T12:54:53.800898",
     "exception": false,
     "start_time": "2025-06-10T12:54:53.775607",
     "status": "completed"
    },
    "tags": []
   },
   "outputs": [],
   "source": [
    "sex = df_origin['sex']"
   ]
  },
  {
   "cell_type": "code",
   "execution_count": 20,
   "id": "4f5b8389",
   "metadata": {
    "execution": {
     "iopub.execute_input": "2025-06-10T12:54:53.842294Z",
     "iopub.status.busy": "2025-06-10T12:54:53.841836Z",
     "iopub.status.idle": "2025-06-10T12:54:53.848368Z",
     "shell.execute_reply": "2025-06-10T12:54:53.847540Z"
    },
    "id": "JkjBXe2ZBLz4",
    "outputId": "e68d5911-1790-4592-845d-189e63684ca3",
    "papermill": {
     "duration": 0.03003,
     "end_time": "2025-06-10T12:54:53.850105",
     "exception": false,
     "start_time": "2025-06-10T12:54:53.820075",
     "status": "completed"
    },
    "tags": []
   },
   "outputs": [
    {
     "data": {
      "text/plain": [
       "333"
      ]
     },
     "execution_count": 20,
     "metadata": {},
     "output_type": "execute_result"
    }
   ],
   "source": [
    "sex.value_counts().sum()"
   ]
  },
  {
   "cell_type": "code",
   "execution_count": 21,
   "id": "a6976fe8",
   "metadata": {
    "execution": {
     "iopub.execute_input": "2025-06-10T12:54:53.891562Z",
     "iopub.status.busy": "2025-06-10T12:54:53.891250Z",
     "iopub.status.idle": "2025-06-10T12:54:53.898496Z",
     "shell.execute_reply": "2025-06-10T12:54:53.897603Z"
    },
    "id": "jY85Ri0nBTip",
    "outputId": "af367ac5-a7c4-4edf-d6de-c7377be29e11",
    "papermill": {
     "duration": 0.029986,
     "end_time": "2025-06-10T12:54:53.900282",
     "exception": false,
     "start_time": "2025-06-10T12:54:53.870296",
     "status": "completed"
    },
    "tags": []
   },
   "outputs": [
    {
     "data": {
      "text/plain": [
       "sex\n",
       "male      168\n",
       "female    165\n",
       "Name: count, dtype: int64"
      ]
     },
     "execution_count": 21,
     "metadata": {},
     "output_type": "execute_result"
    }
   ],
   "source": [
    "sex.value_counts()"
   ]
  },
  {
   "cell_type": "markdown",
   "id": "4c52b3a5",
   "metadata": {
    "id": "CexFQARxBi73",
    "papermill": {
     "duration": 0.019039,
     "end_time": "2025-06-10T12:54:53.938873",
     "exception": false,
     "start_time": "2025-06-10T12:54:53.919834",
     "status": "completed"
    },
    "tags": []
   },
   "source": [
    "## 2. Анализ пропущенных значений\n"
   ]
  },
  {
   "cell_type": "code",
   "execution_count": 22,
   "id": "c6b0d863",
   "metadata": {
    "execution": {
     "iopub.execute_input": "2025-06-10T12:54:53.979304Z",
     "iopub.status.busy": "2025-06-10T12:54:53.978998Z",
     "iopub.status.idle": "2025-06-10T12:54:53.986949Z",
     "shell.execute_reply": "2025-06-10T12:54:53.986094Z"
    },
    "id": "pPFSXhruBkRo",
    "outputId": "39abf675-cef3-495e-99c8-5393eba03465",
    "papermill": {
     "duration": 0.029377,
     "end_time": "2025-06-10T12:54:53.988418",
     "exception": false,
     "start_time": "2025-06-10T12:54:53.959041",
     "status": "completed"
    },
    "tags": []
   },
   "outputs": [
    {
     "data": {
      "text/plain": [
       "species               0\n",
       "island                0\n",
       "bill_length_mm        2\n",
       "bill_depth_mm         2\n",
       "flipper_length_mm     2\n",
       "body_mass_g           2\n",
       "sex                  11\n",
       "dtype: int64"
      ]
     },
     "execution_count": 22,
     "metadata": {},
     "output_type": "execute_result"
    }
   ],
   "source": [
    "df_origin.isna().sum()"
   ]
  },
  {
   "cell_type": "markdown",
   "id": "853ae2d7",
   "metadata": {
    "id": "X-AJvjyDDMun",
    "papermill": {
     "duration": 0.019719,
     "end_time": "2025-06-10T12:54:54.027526",
     "exception": false,
     "start_time": "2025-06-10T12:54:54.007807",
     "status": "completed"
    },
    "tags": []
   },
   "source": [
    "В количественных данных пропущенные значений можно заменить на среднее или медиану.\n",
    "Пол можно заменить в зависимости от веса, определить порог(Например, среднее между медианами) и если вес, ниже порога, то женский пол, больше - мужской"
   ]
  },
  {
   "cell_type": "markdown",
   "id": "91ada1ab",
   "metadata": {
    "id": "geIq0J5yEmBX",
    "papermill": {
     "duration": 0.018662,
     "end_time": "2025-06-10T12:54:54.065925",
     "exception": false,
     "start_time": "2025-06-10T12:54:54.047263",
     "status": "completed"
    },
    "tags": []
   },
   "source": [
    "## 3. Визуализация распределений признаков\n",
    "\n"
   ]
  },
  {
   "cell_type": "markdown",
   "id": "adbbf178",
   "metadata": {
    "id": "vVPGUieLGfJt",
    "papermill": {
     "duration": 0.019241,
     "end_time": "2025-06-10T12:54:54.104397",
     "exception": false,
     "start_time": "2025-06-10T12:54:54.085156",
     "status": "completed"
    },
    "tags": []
   },
   "source": [
    "### Вид пингвина"
   ]
  },
  {
   "cell_type": "code",
   "execution_count": 23,
   "id": "9eadcca7",
   "metadata": {
    "execution": {
     "iopub.execute_input": "2025-06-10T12:54:54.144367Z",
     "iopub.status.busy": "2025-06-10T12:54:54.144021Z",
     "iopub.status.idle": "2025-06-10T12:54:54.359680Z",
     "shell.execute_reply": "2025-06-10T12:54:54.358523Z"
    },
    "id": "DnBVBxJjGcJe",
    "outputId": "e8060b35-a862-471b-f5f3-4080889beac1",
    "papermill": {
     "duration": 0.237748,
     "end_time": "2025-06-10T12:54:54.361462",
     "exception": false,
     "start_time": "2025-06-10T12:54:54.123714",
     "status": "completed"
    },
    "tags": []
   },
   "outputs": [
    {
     "data": {
      "image/png": "[encoded data removed]",
      "text/plain": [
       "<Figure size 1200x700 with 1 Axes>"
      ]
     },
     "metadata": {},
     "output_type": "display_data"
    }
   ],
   "source": [
    "plt.figure(figsize=(12, 7))\n",
    "plt.pie(species.value_counts(), labels = species.value_counts().index, autopct=\"%1.1f%%\")\n",
    "plt.title(\"Вид пингвина\")\n",
    "plt.show()"
   ]
  },
  {
   "cell_type": "markdown",
   "id": "ff1e22c0",
   "metadata": {
    "id": "2olp-HT4GVqm",
    "papermill": {
     "duration": 0.021699,
     "end_time": "2025-06-10T12:54:54.404265",
     "exception": false,
     "start_time": "2025-06-10T12:54:54.382566",
     "status": "completed"
    },
    "tags": []
   },
   "source": [
    "### Остров"
   ]
  },
  {
   "cell_type": "code",
   "execution_count": 24,
   "id": "76fdb81c",
   "metadata": {
    "execution": {
     "iopub.execute_input": "2025-06-10T12:54:54.445704Z",
     "iopub.status.busy": "2025-06-10T12:54:54.445332Z",
     "iopub.status.idle": "2025-06-10T12:54:54.550811Z",
     "shell.execute_reply": "2025-06-10T12:54:54.549908Z"
    },
    "id": "CzGUIt1WE8KO",
    "outputId": "c12d439b-0c31-4978-db3b-7dfd08ef81d3",
    "papermill": {
     "duration": 0.128224,
     "end_time": "2025-06-10T12:54:54.552430",
     "exception": false,
     "start_time": "2025-06-10T12:54:54.424206",
     "status": "completed"
    },
    "tags": []
   },
   "outputs": [
    {
     "data": {
      "image/png": "[encoded data removed]",
      "text/plain": [
       "<Figure size 1200x700 with 1 Axes>"
      ]
     },
     "metadata": {},
     "output_type": "display_data"
    }
   ],
   "source": [
    "plt.figure(figsize=(12, 7))\n",
    "plt.pie(island.value_counts(), labels = island.value_counts().index, autopct=\"%1.1f%%\")\n",
    "plt.title(\"Остров пингвина\")\n",
    "plt.show()"
   ]
  },
  {
   "cell_type": "markdown",
   "id": "cb94b6b0",
   "metadata": {
    "id": "ftC3XMqOIGJN",
    "papermill": {
     "duration": 0.020619,
     "end_time": "2025-06-10T12:54:54.593489",
     "exception": false,
     "start_time": "2025-06-10T12:54:54.572870",
     "status": "completed"
    },
    "tags": []
   },
   "source": [
    "### Длина клюва в миллиметрах"
   ]
  },
  {
   "cell_type": "code",
   "execution_count": 25,
   "id": "d96caa0d",
   "metadata": {
    "execution": {
     "iopub.execute_input": "2025-06-10T12:54:54.637549Z",
     "iopub.status.busy": "2025-06-10T12:54:54.637188Z",
     "iopub.status.idle": "2025-06-10T12:54:54.949821Z",
     "shell.execute_reply": "2025-06-10T12:54:54.948786Z"
    },
    "id": "7p8Wx86bHS4F",
    "outputId": "90e141ab-6332-4e1a-f856-11dba97b0e63",
    "papermill": {
     "duration": 0.337161,
     "end_time": "2025-06-10T12:54:54.951611",
     "exception": false,
     "start_time": "2025-06-10T12:54:54.614450",
     "status": "completed"
    },
    "tags": []
   },
   "outputs": [
    {
     "data": {
      "image/png": "[encoded data removed]",
      "text/plain": [
       "<Figure size 1200x700 with 1 Axes>"
      ]
     },
     "metadata": {},
     "output_type": "display_data"
    }
   ],
   "source": [
    "plt.figure(figsize=(12, 7))\n",
    "sns.histplot(bill_length_mm, bins=25, kde=True, color=\"blue\")\n",
    "plt.title(\"Длина клюва в миллиметрах\")\n",
    "plt.xlabel(\"Длина (мм)\")\n",
    "plt.show()"
   ]
  },
  {
   "cell_type": "code",
   "execution_count": 26,
   "id": "e5707044",
   "metadata": {
    "execution": {
     "iopub.execute_input": "2025-06-10T12:54:54.996674Z",
     "iopub.status.busy": "2025-06-10T12:54:54.996318Z",
     "iopub.status.idle": "2025-06-10T12:54:55.205207Z",
     "shell.execute_reply": "2025-06-10T12:54:55.203698Z"
    },
    "id": "Dfu9uyHVtefR",
    "outputId": "3600e0b7-b744-4250-8b33-623df9564bf1",
    "papermill": {
     "duration": 0.233444,
     "end_time": "2025-06-10T12:54:55.207197",
     "exception": false,
     "start_time": "2025-06-10T12:54:54.973753",
     "status": "completed"
    },
    "tags": []
   },
   "outputs": [
    {
     "data": {
      "image/png": "[encoded data removed]",
      "text/plain": [
       "<Figure size 1200x700 with 1 Axes>"
      ]
     },
     "metadata": {},
     "output_type": "display_data"
    }
   ],
   "source": [
    "plt.figure(figsize=(12, 7))\n",
    "sns.boxplot(x=df_origin[\"species\"], y=df_origin[\"bill_length_mm\"], palette=\"Set2\")\n",
    "plt.title(\"Длина клюва в зависимости от вида\")\n",
    "plt.xlabel(\"Вид\")\n",
    "plt.ylabel(\"Длина клюва (мм)\")\n",
    "plt.show()\n"
   ]
  },
  {
   "cell_type": "markdown",
   "id": "a97a5299",
   "metadata": {
    "id": "pgiDErjuKLVt",
    "papermill": {
     "duration": 0.021334,
     "end_time": "2025-06-10T12:54:55.251211",
     "exception": false,
     "start_time": "2025-06-10T12:54:55.229877",
     "status": "completed"
    },
    "tags": []
   },
   "source": [
    "### Глубина (высота) клюва в миллиметрах"
   ]
  },
  {
   "cell_type": "code",
   "execution_count": 27,
   "id": "fcb09a59",
   "metadata": {
    "execution": {
     "iopub.execute_input": "2025-06-10T12:54:55.297457Z",
     "iopub.status.busy": "2025-06-10T12:54:55.297139Z",
     "iopub.status.idle": "2025-06-10T12:54:55.585562Z",
     "shell.execute_reply": "2025-06-10T12:54:55.584473Z"
    },
    "id": "Er45u3zzKEAl",
    "outputId": "bbfb9bf3-cac0-48c9-a197-332935798866",
    "papermill": {
     "duration": 0.314738,
     "end_time": "2025-06-10T12:54:55.587420",
     "exception": false,
     "start_time": "2025-06-10T12:54:55.272682",
     "status": "completed"
    },
    "tags": []
   },
   "outputs": [
    {
     "data": {
      "image/png": "[encoded data removed]",
      "text/plain": [
       "<Figure size 1200x700 with 1 Axes>"
      ]
     },
     "metadata": {},
     "output_type": "display_data"
    }
   ],
   "source": [
    "plt.figure(figsize=(12, 7))\n",
    "sns.histplot(bill_depth_mm, bins=25, kde=True, color=\"blue\")\n",
    "plt.title(\"Глубина (высота) клюва в миллиметрах\")\n",
    "plt.xlabel(\"Высота (мм)\")\n",
    "plt.show()"
   ]
  },
  {
   "cell_type": "code",
   "execution_count": 28,
   "id": "64583c88",
   "metadata": {
    "execution": {
     "iopub.execute_input": "2025-06-10T12:54:55.635015Z",
     "iopub.status.busy": "2025-06-10T12:54:55.634697Z",
     "iopub.status.idle": "2025-06-10T12:54:55.812314Z",
     "shell.execute_reply": "2025-06-10T12:54:55.811259Z"
    },
    "id": "OQAgwGudtn41",
    "outputId": "c21a750a-1041-4a9c-9f5f-4ce986a018ca",
    "papermill": {
     "duration": 0.203521,
     "end_time": "2025-06-10T12:54:55.814022",
     "exception": false,
     "start_time": "2025-06-10T12:54:55.610501",
     "status": "completed"
    },
    "tags": []
   },
   "outputs": [
    {
     "data": {
      "image/png": "[encoded data removed]",
      "text/plain": [
       "<Figure size 1200x700 with 1 Axes>"
      ]
     },
     "metadata": {},
     "output_type": "display_data"
    }
   ],
   "source": [
    "plt.figure(figsize=(12, 7))\n",
    "sns.boxplot(x=df_origin[\"species\"], y=df_origin[\"bill_depth_mm\"], palette=\"Set2\")\n",
    "plt.title(\"Глубина клюва в зависимости от вида\")\n",
    "plt.xlabel(\"Вид\")\n",
    "plt.ylabel(\"Глубина клюва (мм)\")\n",
    "plt.show()"
   ]
  },
  {
   "cell_type": "markdown",
   "id": "fe784cc5",
   "metadata": {
    "id": "0R9iYquUKVO9",
    "papermill": {
     "duration": 0.023219,
     "end_time": "2025-06-10T12:54:55.860261",
     "exception": false,
     "start_time": "2025-06-10T12:54:55.837042",
     "status": "completed"
    },
    "tags": []
   },
   "source": [
    "### Длина ластов"
   ]
  },
  {
   "cell_type": "code",
   "execution_count": 29,
   "id": "be7d789a",
   "metadata": {
    "execution": {
     "iopub.execute_input": "2025-06-10T12:54:55.907449Z",
     "iopub.status.busy": "2025-06-10T12:54:55.907133Z",
     "iopub.status.idle": "2025-06-10T12:54:56.211385Z",
     "shell.execute_reply": "2025-06-10T12:54:56.210256Z"
    },
    "id": "P9ryXZ8nKUuN",
    "outputId": "235e76c0-898c-4c98-8344-b0273455748c",
    "papermill": {
     "duration": 0.330092,
     "end_time": "2025-06-10T12:54:56.213448",
     "exception": false,
     "start_time": "2025-06-10T12:54:55.883356",
     "status": "completed"
    },
    "tags": []
   },
   "outputs": [
    {
     "data": {
      "image/png": "[encoded data removed]",
      "text/plain": [
       "<Figure size 1200x700 with 1 Axes>"
      ]
     },
     "metadata": {},
     "output_type": "display_data"
    }
   ],
   "source": [
    "plt.figure(figsize=(12, 7))\n",
    "sns.histplot(flipper_length_mm, bins=25, kde=True, color=\"blue\")\n",
    "plt.title(\"Длина ласт\")\n",
    "plt.xlabel(\"Длина (мм)\")\n",
    "plt.show()"
   ]
  },
  {
   "cell_type": "code",
   "execution_count": 30,
   "id": "e0fd6282",
   "metadata": {
    "execution": {
     "iopub.execute_input": "2025-06-10T12:54:56.263826Z",
     "iopub.status.busy": "2025-06-10T12:54:56.263486Z",
     "iopub.status.idle": "2025-06-10T12:54:56.460134Z",
     "shell.execute_reply": "2025-06-10T12:54:56.458811Z"
    },
    "id": "NqUxwTrptyiS",
    "outputId": "ec55864a-7032-4167-d9fc-6b73e043f1e0",
    "papermill": {
     "duration": 0.223675,
     "end_time": "2025-06-10T12:54:56.461852",
     "exception": false,
     "start_time": "2025-06-10T12:54:56.238177",
     "status": "completed"
    },
    "tags": []
   },
   "outputs": [
    {
     "data": {
      "image/png": "[encoded data removed]",
      "text/plain": [
       "<Figure size 1200x700 with 1 Axes>"
      ]
     },
     "metadata": {},
     "output_type": "display_data"
    }
   ],
   "source": [
    "plt.figure(figsize=(12, 7))\n",
    "sns.boxplot(x=df_origin[\"species\"], y=df_origin[\"flipper_length_mm\"], palette=\"Set2\")\n",
    "plt.title(\"Длина ласт в зависимости от вида\")\n",
    "plt.xlabel(\"Вид\")\n",
    "plt.ylabel(\"Длина ласт (мм)\")\n",
    "plt.show()"
   ]
  },
  {
   "cell_type": "markdown",
   "id": "fdce2f80",
   "metadata": {
    "id": "0BTR3XK1KqS1",
    "papermill": {
     "duration": 0.024038,
     "end_time": "2025-06-10T12:54:56.511010",
     "exception": false,
     "start_time": "2025-06-10T12:54:56.486972",
     "status": "completed"
    },
    "tags": []
   },
   "source": [
    "### Масса тела в граммах"
   ]
  },
  {
   "cell_type": "code",
   "execution_count": 31,
   "id": "658f3ae8",
   "metadata": {
    "execution": {
     "iopub.execute_input": "2025-06-10T12:54:56.560459Z",
     "iopub.status.busy": "2025-06-10T12:54:56.560134Z",
     "iopub.status.idle": "2025-06-10T12:54:56.846906Z",
     "shell.execute_reply": "2025-06-10T12:54:56.846057Z"
    },
    "id": "2FV5L03-E8KO",
    "outputId": "5c20da75-8cf2-4992-bd5a-36956e483bd9",
    "papermill": {
     "duration": 0.313737,
     "end_time": "2025-06-10T12:54:56.848630",
     "exception": false,
     "start_time": "2025-06-10T12:54:56.534893",
     "status": "completed"
    },
    "tags": []
   },
   "outputs": [
    {
     "data": {
      "image/png": "[encoded data removed]",
      "text/plain": [
       "<Figure size 1200x700 with 1 Axes>"
      ]
     },
     "metadata": {},
     "output_type": "display_data"
    }
   ],
   "source": [
    "plt.figure(figsize=(12, 7))\n",
    "sns.histplot(body_mass_g, bins=25, kde=True, color=\"blue\")\n",
    "plt.title(\"Масса тела в граммах\")\n",
    "plt.xlabel(\"Масса (гр)\")\n",
    "plt.show()"
   ]
  },
  {
   "cell_type": "code",
   "execution_count": 32,
   "id": "fb73ec8d",
   "metadata": {
    "execution": {
     "iopub.execute_input": "2025-06-10T12:54:56.900717Z",
     "iopub.status.busy": "2025-06-10T12:54:56.900393Z",
     "iopub.status.idle": "2025-06-10T12:54:57.089610Z",
     "shell.execute_reply": "2025-06-10T12:54:57.088540Z"
    },
    "id": "65-ImeAWuYE0",
    "outputId": "7191b4f3-9b6b-457d-e696-1f94a0e2e962",
    "papermill": {
     "duration": 0.216883,
     "end_time": "2025-06-10T12:54:57.091392",
     "exception": false,
     "start_time": "2025-06-10T12:54:56.874509",
     "status": "completed"
    },
    "tags": []
   },
   "outputs": [
    {
     "data": {
      "image/png": "[encoded data removed]",
      "text/plain": [
       "<Figure size 1200x700 with 1 Axes>"
      ]
     },
     "metadata": {},
     "output_type": "display_data"
    }
   ],
   "source": [
    "plt.figure(figsize=(12, 7))\n",
    "sns.boxplot(x=df_origin[\"species\"], y=df_origin[\"body_mass_g\"], palette=\"Set2\")\n",
    "plt.title(\"Масса тела в зависимости от вида\")\n",
    "plt.xlabel(\"Вид\")\n",
    "plt.ylabel(\"Масса тела\")\n",
    "plt.show()"
   ]
  },
  {
   "cell_type": "code",
   "execution_count": 33,
   "id": "9c19f343",
   "metadata": {
    "execution": {
     "iopub.execute_input": "2025-06-10T12:54:57.143597Z",
     "iopub.status.busy": "2025-06-10T12:54:57.143311Z",
     "iopub.status.idle": "2025-06-10T12:54:57.247171Z",
     "shell.execute_reply": "2025-06-10T12:54:57.246233Z"
    },
    "id": "O0UgHT1FE8KO",
    "outputId": "652739d5-b385-4e06-a7f3-8b0c64943766",
    "papermill": {
     "duration": 0.131478,
     "end_time": "2025-06-10T12:54:57.248624",
     "exception": false,
     "start_time": "2025-06-10T12:54:57.117146",
     "status": "completed"
    },
    "tags": []
   },
   "outputs": [
    {
     "data": {
      "image/png": "[encoded data removed]",
      "text/plain": [
       "<Figure size 1200x700 with 1 Axes>"
      ]
     },
     "metadata": {},
     "output_type": "display_data"
    }
   ],
   "source": [
    "plt.figure(figsize=(12, 7))\n",
    "plt.pie(sex.value_counts(), labels = sex.value_counts().index, autopct=\"%1.1f%%\", colors = ['blue', 'red'])\n",
    "plt.title(\"Пол пингвина\")\n",
    "plt.show()"
   ]
  },
  {
   "cell_type": "markdown",
   "id": "2cff9222",
   "metadata": {
    "id": "t-nFrPfZLgTN",
    "papermill": {
     "duration": 0.025426,
     "end_time": "2025-06-10T12:54:57.300585",
     "exception": false,
     "start_time": "2025-06-10T12:54:57.275159",
     "status": "completed"
    },
    "tags": []
   },
   "source": [
    "## 4. Выявление аномалий и выбросов\n",
    "\n",
    "\n",
    "Все значения меньше Q1 - 1.2 * IQR или больше Q3 + 1.2 * IQR можно считать выбросами/аномалиями.\n",
    "Q1 - Первый квартиль,\n",
    "Q3 - Третий квартиль,\n",
    "IQR - Разница"
   ]
  },
  {
   "cell_type": "markdown",
   "id": "ec8fce66",
   "metadata": {
    "id": "Jo41v10jNqo9",
    "papermill": {
     "duration": 0.025319,
     "end_time": "2025-06-10T12:54:57.351459",
     "exception": false,
     "start_time": "2025-06-10T12:54:57.326140",
     "status": "completed"
    },
    "tags": []
   },
   "source": [
    "### Длина клюва в миллиметрах"
   ]
  },
  {
   "cell_type": "code",
   "execution_count": 34,
   "id": "dc680fa0",
   "metadata": {
    "execution": {
     "iopub.execute_input": "2025-06-10T12:54:57.407442Z",
     "iopub.status.busy": "2025-06-10T12:54:57.407109Z",
     "iopub.status.idle": "2025-06-10T12:54:57.414375Z",
     "shell.execute_reply": "2025-06-10T12:54:57.413508Z"
    },
    "id": "jXHwnrR0NNCt",
    "papermill": {
     "duration": 0.036305,
     "end_time": "2025-06-10T12:54:57.416075",
     "exception": false,
     "start_time": "2025-06-10T12:54:57.379770",
     "status": "completed"
    },
    "tags": []
   },
   "outputs": [],
   "source": [
    "Q1 = bill_length_mm.quantile(0.25)  # Первый квартиль (25%)\n",
    "Q3 = bill_length_mm.quantile(0.75)  # Третий квартиль (75%)\n",
    "IQR = Q3 - Q1  # Межквартильный размах\n",
    "\n",
    "lower_bound = Q1 - 1.2 * IQR\n",
    "upper_bound = Q3 + 1.2 * IQR"
   ]
  },
  {
   "cell_type": "code",
   "execution_count": 35,
   "id": "39c4b47a",
   "metadata": {
    "execution": {
     "iopub.execute_input": "2025-06-10T12:54:57.468348Z",
     "iopub.status.busy": "2025-06-10T12:54:57.467972Z",
     "iopub.status.idle": "2025-06-10T12:54:57.473506Z",
     "shell.execute_reply": "2025-06-10T12:54:57.472746Z"
    },
    "id": "aZcZkOgbPMFF",
    "outputId": "5ad006c5-49f8-4107-93f9-8acddf47dfd2",
    "papermill": {
     "duration": 0.033504,
     "end_time": "2025-06-10T12:54:57.474887",
     "exception": false,
     "start_time": "2025-06-10T12:54:57.441383",
     "status": "completed"
    },
    "tags": []
   },
   "outputs": [
    {
     "data": {
      "text/plain": [
       "(39.225, 48.5)"
      ]
     },
     "execution_count": 35,
     "metadata": {},
     "output_type": "execute_result"
    }
   ],
   "source": [
    "Q1, Q3"
   ]
  },
  {
   "cell_type": "code",
   "execution_count": 36,
   "id": "e3b9b0a9",
   "metadata": {
    "execution": {
     "iopub.execute_input": "2025-06-10T12:54:57.530558Z",
     "iopub.status.busy": "2025-06-10T12:54:57.530221Z",
     "iopub.status.idle": "2025-06-10T12:54:57.536464Z",
     "shell.execute_reply": "2025-06-10T12:54:57.535419Z"
    },
    "id": "bn5VdSBONRrV",
    "papermill": {
     "duration": 0.037675,
     "end_time": "2025-06-10T12:54:57.538206",
     "exception": false,
     "start_time": "2025-06-10T12:54:57.500531",
     "status": "completed"
    },
    "tags": []
   },
   "outputs": [],
   "source": [
    "outliers_bill_length_mm = df_origin[(bill_length_mm < lower_bound) | (bill_length_mm > upper_bound)]"
   ]
  },
  {
   "cell_type": "code",
   "execution_count": 37,
   "id": "145030c2",
   "metadata": {
    "execution": {
     "iopub.execute_input": "2025-06-10T12:54:57.592297Z",
     "iopub.status.busy": "2025-06-10T12:54:57.591975Z",
     "iopub.status.idle": "2025-06-10T12:54:57.600758Z",
     "shell.execute_reply": "2025-06-10T12:54:57.599762Z"
    },
    "id": "iBrzkisYNYJk",
    "outputId": "fbaec84f-8472-4036-dda3-6528f07e9a4a",
    "papermill": {
     "duration": 0.037721,
     "end_time": "2025-06-10T12:54:57.602416",
     "exception": false,
     "start_time": "2025-06-10T12:54:57.564695",
     "status": "completed"
    },
    "tags": []
   },
   "outputs": [
    {
     "data": {
      "text/html": [
       "<div>\n",
       "<style scoped>\n",
       "    .dataframe tbody tr th:only-of-type {\n",
       "        vertical-align: middle;\n",
       "    }\n",
       "\n",
       "    .dataframe tbody tr th {\n",
       "        vertical-align: top;\n",
       "    }\n",
       "\n",
       "    .dataframe thead th {\n",
       "        text-align: right;\n",
       "    }\n",
       "</style>\n",
       "<table border=\"1\" class=\"dataframe\">\n",
       "  <thead>\n",
       "    <tr style=\"text-align: right;\">\n",
       "      <th></th>\n",
       "      <th>species</th>\n",
       "      <th>island</th>\n",
       "      <th>bill_length_mm</th>\n",
       "      <th>bill_depth_mm</th>\n",
       "      <th>flipper_length_mm</th>\n",
       "      <th>body_mass_g</th>\n",
       "      <th>sex</th>\n",
       "    </tr>\n",
       "  </thead>\n",
       "  <tbody>\n",
       "  </tbody>\n",
       "</table>\n",
       "</div>"
      ],
      "text/plain": [
       "Empty DataFrame\n",
       "Columns: [species, island, bill_length_mm, bill_depth_mm, flipper_length_mm, body_mass_g, sex]\n",
       "Index: []"
      ]
     },
     "execution_count": 37,
     "metadata": {},
     "output_type": "execute_result"
    }
   ],
   "source": [
    "outliers_bill_length_mm"
   ]
  },
  {
   "cell_type": "markdown",
   "id": "781fb6a9",
   "metadata": {
    "id": "vqyuaoVANuXl",
    "papermill": {
     "duration": 0.025911,
     "end_time": "2025-06-10T12:54:57.654342",
     "exception": false,
     "start_time": "2025-06-10T12:54:57.628431",
     "status": "completed"
    },
    "tags": []
   },
   "source": [
    "### Глубина (высота) клюва в миллиметрах"
   ]
  },
  {
   "cell_type": "code",
   "execution_count": 38,
   "id": "1a7dc2fe",
   "metadata": {
    "execution": {
     "iopub.execute_input": "2025-06-10T12:54:57.707166Z",
     "iopub.status.busy": "2025-06-10T12:54:57.706476Z",
     "iopub.status.idle": "2025-06-10T12:54:57.713332Z",
     "shell.execute_reply": "2025-06-10T12:54:57.712425Z"
    },
    "id": "-hh4wMj5NuXl",
    "papermill": {
     "duration": 0.034697,
     "end_time": "2025-06-10T12:54:57.714844",
     "exception": false,
     "start_time": "2025-06-10T12:54:57.680147",
     "status": "completed"
    },
    "tags": []
   },
   "outputs": [],
   "source": [
    "Q1 = bill_depth_mm.quantile(0.25)  # Первый квартиль (25%)\n",
    "Q3 = bill_depth_mm.quantile(0.75)  # Третий квартиль (75%)\n",
    "IQR = Q3 - Q1  # Межквартильный размах\n",
    "\n",
    "lower_bound = Q1 - 1.2 * IQR\n",
    "upper_bound = Q3 + 1.2 * IQR"
   ]
  },
  {
   "cell_type": "code",
   "execution_count": 39,
   "id": "cc86ac0c",
   "metadata": {
    "execution": {
     "iopub.execute_input": "2025-06-10T12:54:57.770158Z",
     "iopub.status.busy": "2025-06-10T12:54:57.769314Z",
     "iopub.status.idle": "2025-06-10T12:54:57.775081Z",
     "shell.execute_reply": "2025-06-10T12:54:57.774220Z"
    },
    "id": "V__B2oRIPRMq",
    "outputId": "764d5107-e09b-4d2c-a316-41af696e3a07",
    "papermill": {
     "duration": 0.034555,
     "end_time": "2025-06-10T12:54:57.776551",
     "exception": false,
     "start_time": "2025-06-10T12:54:57.741996",
     "status": "completed"
    },
    "tags": []
   },
   "outputs": [
    {
     "data": {
      "text/plain": [
       "(15.6, 18.7)"
      ]
     },
     "execution_count": 39,
     "metadata": {},
     "output_type": "execute_result"
    }
   ],
   "source": [
    "Q1, Q3"
   ]
  },
  {
   "cell_type": "code",
   "execution_count": 40,
   "id": "6ee690c7",
   "metadata": {
    "execution": {
     "iopub.execute_input": "2025-06-10T12:54:57.835259Z",
     "iopub.status.busy": "2025-06-10T12:54:57.834938Z",
     "iopub.status.idle": "2025-06-10T12:54:57.840602Z",
     "shell.execute_reply": "2025-06-10T12:54:57.839596Z"
    },
    "id": "8cnlDiIWNuXl",
    "papermill": {
     "duration": 0.035152,
     "end_time": "2025-06-10T12:54:57.842446",
     "exception": false,
     "start_time": "2025-06-10T12:54:57.807294",
     "status": "completed"
    },
    "tags": []
   },
   "outputs": [],
   "source": [
    "outliers_bill_depth_mm = df_origin[(bill_depth_mm  < lower_bound) | (bill_depth_mm  > upper_bound)]"
   ]
  },
  {
   "cell_type": "code",
   "execution_count": 41,
   "id": "7fe801aa",
   "metadata": {
    "execution": {
     "iopub.execute_input": "2025-06-10T12:54:57.895952Z",
     "iopub.status.busy": "2025-06-10T12:54:57.895605Z",
     "iopub.status.idle": "2025-06-10T12:54:57.903902Z",
     "shell.execute_reply": "2025-06-10T12:54:57.903000Z"
    },
    "id": "xARJUI8nNuXl",
    "outputId": "89bc553f-fa2e-4be4-fdf8-79722cb3c9cd",
    "papermill": {
     "duration": 0.036779,
     "end_time": "2025-06-10T12:54:57.905310",
     "exception": false,
     "start_time": "2025-06-10T12:54:57.868531",
     "status": "completed"
    },
    "tags": []
   },
   "outputs": [
    {
     "data": {
      "text/html": [
       "<div>\n",
       "<style scoped>\n",
       "    .dataframe tbody tr th:only-of-type {\n",
       "        vertical-align: middle;\n",
       "    }\n",
       "\n",
       "    .dataframe tbody tr th {\n",
       "        vertical-align: top;\n",
       "    }\n",
       "\n",
       "    .dataframe thead th {\n",
       "        text-align: right;\n",
       "    }\n",
       "</style>\n",
       "<table border=\"1\" class=\"dataframe\">\n",
       "  <thead>\n",
       "    <tr style=\"text-align: right;\">\n",
       "      <th></th>\n",
       "      <th>species</th>\n",
       "      <th>island</th>\n",
       "      <th>bill_length_mm</th>\n",
       "      <th>bill_depth_mm</th>\n",
       "      <th>flipper_length_mm</th>\n",
       "      <th>body_mass_g</th>\n",
       "      <th>sex</th>\n",
       "    </tr>\n",
       "  </thead>\n",
       "  <tbody>\n",
       "  </tbody>\n",
       "</table>\n",
       "</div>"
      ],
      "text/plain": [
       "Empty DataFrame\n",
       "Columns: [species, island, bill_length_mm, bill_depth_mm, flipper_length_mm, body_mass_g, sex]\n",
       "Index: []"
      ]
     },
     "execution_count": 41,
     "metadata": {},
     "output_type": "execute_result"
    }
   ],
   "source": [
    "outliers_bill_depth_mm"
   ]
  },
  {
   "cell_type": "markdown",
   "id": "a3161a4e",
   "metadata": {
    "id": "c_4eWsQRN_7w",
    "papermill": {
     "duration": 0.028927,
     "end_time": "2025-06-10T12:54:57.960405",
     "exception": false,
     "start_time": "2025-06-10T12:54:57.931478",
     "status": "completed"
    },
    "tags": []
   },
   "source": [
    "### Длина ластов в миллиметрах"
   ]
  },
  {
   "cell_type": "code",
   "execution_count": 42,
   "id": "5a5e7410",
   "metadata": {
    "execution": {
     "iopub.execute_input": "2025-06-10T12:54:58.016575Z",
     "iopub.status.busy": "2025-06-10T12:54:58.016253Z",
     "iopub.status.idle": "2025-06-10T12:54:58.023610Z",
     "shell.execute_reply": "2025-06-10T12:54:58.022713Z"
    },
    "id": "cQBLHPMmN_7x",
    "papermill": {
     "duration": 0.036841,
     "end_time": "2025-06-10T12:54:58.025239",
     "exception": false,
     "start_time": "2025-06-10T12:54:57.988398",
     "status": "completed"
    },
    "tags": []
   },
   "outputs": [],
   "source": [
    "Q1 = flipper_length_mm.quantile(0.25)  # Первый квартиль (25%)\n",
    "Q3 = flipper_length_mm.quantile(0.75)  # Третий квартиль (75%)\n",
    "IQR = Q3 - Q1  # Межквартильный размах\n",
    "\n",
    "lower_bound = Q1 - 1.2 * IQR\n",
    "upper_bound = Q3 + 1.2 * IQR"
   ]
  },
  {
   "cell_type": "code",
   "execution_count": 43,
   "id": "890cb852",
   "metadata": {
    "execution": {
     "iopub.execute_input": "2025-06-10T12:54:58.080553Z",
     "iopub.status.busy": "2025-06-10T12:54:58.080216Z",
     "iopub.status.idle": "2025-06-10T12:54:58.085926Z",
     "shell.execute_reply": "2025-06-10T12:54:58.085078Z"
    },
    "id": "z9FjjB2IPV3s",
    "outputId": "2fc245c2-9c84-49e8-ce5b-aac15b0ee5f7",
    "papermill": {
     "duration": 0.034767,
     "end_time": "2025-06-10T12:54:58.087600",
     "exception": false,
     "start_time": "2025-06-10T12:54:58.052833",
     "status": "completed"
    },
    "tags": []
   },
   "outputs": [
    {
     "data": {
      "text/plain": [
       "(190.0, 213.0)"
      ]
     },
     "execution_count": 43,
     "metadata": {},
     "output_type": "execute_result"
    }
   ],
   "source": [
    "Q1, Q3"
   ]
  },
  {
   "cell_type": "code",
   "execution_count": 44,
   "id": "8e09ee90",
   "metadata": {
    "execution": {
     "iopub.execute_input": "2025-06-10T12:54:58.143362Z",
     "iopub.status.busy": "2025-06-10T12:54:58.142905Z",
     "iopub.status.idle": "2025-06-10T12:54:58.148931Z",
     "shell.execute_reply": "2025-06-10T12:54:58.148103Z"
    },
    "id": "uj4r3rIiN_7x",
    "papermill": {
     "duration": 0.03488,
     "end_time": "2025-06-10T12:54:58.150505",
     "exception": false,
     "start_time": "2025-06-10T12:54:58.115625",
     "status": "completed"
    },
    "tags": []
   },
   "outputs": [],
   "source": [
    "outliers_flipper_length_mm = df_origin[(flipper_length_mm  < lower_bound) | (flipper_length_mm  > upper_bound)]"
   ]
  },
  {
   "cell_type": "code",
   "execution_count": 45,
   "id": "b22aaa98",
   "metadata": {
    "execution": {
     "iopub.execute_input": "2025-06-10T12:54:58.204113Z",
     "iopub.status.busy": "2025-06-10T12:54:58.203775Z",
     "iopub.status.idle": "2025-06-10T12:54:58.211829Z",
     "shell.execute_reply": "2025-06-10T12:54:58.210961Z"
    },
    "id": "jWG9_6jvN_7x",
    "outputId": "3e40a503-70d8-4aa2-f10c-de63845e7c1d",
    "papermill": {
     "duration": 0.036789,
     "end_time": "2025-06-10T12:54:58.213490",
     "exception": false,
     "start_time": "2025-06-10T12:54:58.176701",
     "status": "completed"
    },
    "tags": []
   },
   "outputs": [
    {
     "data": {
      "text/html": [
       "<div>\n",
       "<style scoped>\n",
       "    .dataframe tbody tr th:only-of-type {\n",
       "        vertical-align: middle;\n",
       "    }\n",
       "\n",
       "    .dataframe tbody tr th {\n",
       "        vertical-align: top;\n",
       "    }\n",
       "\n",
       "    .dataframe thead th {\n",
       "        text-align: right;\n",
       "    }\n",
       "</style>\n",
       "<table border=\"1\" class=\"dataframe\">\n",
       "  <thead>\n",
       "    <tr style=\"text-align: right;\">\n",
       "      <th></th>\n",
       "      <th>species</th>\n",
       "      <th>island</th>\n",
       "      <th>bill_length_mm</th>\n",
       "      <th>bill_depth_mm</th>\n",
       "      <th>flipper_length_mm</th>\n",
       "      <th>body_mass_g</th>\n",
       "      <th>sex</th>\n",
       "    </tr>\n",
       "  </thead>\n",
       "  <tbody>\n",
       "  </tbody>\n",
       "</table>\n",
       "</div>"
      ],
      "text/plain": [
       "Empty DataFrame\n",
       "Columns: [species, island, bill_length_mm, bill_depth_mm, flipper_length_mm, body_mass_g, sex]\n",
       "Index: []"
      ]
     },
     "execution_count": 45,
     "metadata": {},
     "output_type": "execute_result"
    }
   ],
   "source": [
    "outliers_flipper_length_mm"
   ]
  },
  {
   "cell_type": "markdown",
   "id": "ecad3d51",
   "metadata": {
    "id": "DOLXDM1KOWwc",
    "papermill": {
     "duration": 0.025843,
     "end_time": "2025-06-10T12:54:58.265964",
     "exception": false,
     "start_time": "2025-06-10T12:54:58.240121",
     "status": "completed"
    },
    "tags": []
   },
   "source": [
    "### Масса тела в граммах\n",
    "\n",
    "\n",
    "\n",
    "\n"
   ]
  },
  {
   "cell_type": "code",
   "execution_count": 46,
   "id": "842d9864",
   "metadata": {
    "execution": {
     "iopub.execute_input": "2025-06-10T12:54:58.321575Z",
     "iopub.status.busy": "2025-06-10T12:54:58.321283Z",
     "iopub.status.idle": "2025-06-10T12:54:58.328600Z",
     "shell.execute_reply": "2025-06-10T12:54:58.327710Z"
    },
    "id": "uuzRvQiLOWwc",
    "papermill": {
     "duration": 0.037713,
     "end_time": "2025-06-10T12:54:58.330276",
     "exception": false,
     "start_time": "2025-06-10T12:54:58.292563",
     "status": "completed"
    },
    "tags": []
   },
   "outputs": [],
   "source": [
    "Q1 = body_mass_g.quantile(0.25)  # Первый квартиль (25%)\n",
    "Q3 = body_mass_g.quantile(0.75)  # Третий квартиль (75%)\n",
    "IQR = Q3 - Q1  # Межквартильный размах\n",
    "\n",
    "lower_bound = Q1 - 1.2 * IQR\n",
    "upper_bound = Q3 + 1.2 * IQR"
   ]
  },
  {
   "cell_type": "code",
   "execution_count": 47,
   "id": "0d15f626",
   "metadata": {
    "execution": {
     "iopub.execute_input": "2025-06-10T12:54:58.387318Z",
     "iopub.status.busy": "2025-06-10T12:54:58.386870Z",
     "iopub.status.idle": "2025-06-10T12:54:58.392672Z",
     "shell.execute_reply": "2025-06-10T12:54:58.391721Z"
    },
    "id": "eXeXzErcPYtU",
    "outputId": "129a880c-d923-4a07-98c6-757618ed878a",
    "papermill": {
     "duration": 0.036839,
     "end_time": "2025-06-10T12:54:58.394146",
     "exception": false,
     "start_time": "2025-06-10T12:54:58.357307",
     "status": "completed"
    },
    "tags": []
   },
   "outputs": [
    {
     "data": {
      "text/plain": [
       "(3550.0, 4750.0)"
      ]
     },
     "execution_count": 47,
     "metadata": {},
     "output_type": "execute_result"
    }
   ],
   "source": [
    "Q1, Q3"
   ]
  },
  {
   "cell_type": "code",
   "execution_count": 48,
   "id": "988ae59a",
   "metadata": {
    "execution": {
     "iopub.execute_input": "2025-06-10T12:54:58.449254Z",
     "iopub.status.busy": "2025-06-10T12:54:58.448960Z",
     "iopub.status.idle": "2025-06-10T12:54:58.454401Z",
     "shell.execute_reply": "2025-06-10T12:54:58.453354Z"
    },
    "id": "rRXa0MuKOWwc",
    "papermill": {
     "duration": 0.035604,
     "end_time": "2025-06-10T12:54:58.456074",
     "exception": false,
     "start_time": "2025-06-10T12:54:58.420470",
     "status": "completed"
    },
    "tags": []
   },
   "outputs": [],
   "source": [
    "outliers_body_mass_g = df_origin[(body_mass_g  < lower_bound) | (body_mass_g  > upper_bound)]"
   ]
  },
  {
   "cell_type": "code",
   "execution_count": 49,
   "id": "08886432",
   "metadata": {
    "execution": {
     "iopub.execute_input": "2025-06-10T12:54:58.511083Z",
     "iopub.status.busy": "2025-06-10T12:54:58.510798Z",
     "iopub.status.idle": "2025-06-10T12:54:58.521507Z",
     "shell.execute_reply": "2025-06-10T12:54:58.520710Z"
    },
    "id": "d3CYCaDlOWwc",
    "outputId": "87c2618f-44a6-44f4-b7fd-5be485d5bc0c",
    "papermill": {
     "duration": 0.03983,
     "end_time": "2025-06-10T12:54:58.523081",
     "exception": false,
     "start_time": "2025-06-10T12:54:58.483251",
     "status": "completed"
    },
    "tags": []
   },
   "outputs": [
    {
     "data": {
      "text/html": [
       "<div>\n",
       "<style scoped>\n",
       "    .dataframe tbody tr th:only-of-type {\n",
       "        vertical-align: middle;\n",
       "    }\n",
       "\n",
       "    .dataframe tbody tr th {\n",
       "        vertical-align: top;\n",
       "    }\n",
       "\n",
       "    .dataframe thead th {\n",
       "        text-align: right;\n",
       "    }\n",
       "</style>\n",
       "<table border=\"1\" class=\"dataframe\">\n",
       "  <thead>\n",
       "    <tr style=\"text-align: right;\">\n",
       "      <th></th>\n",
       "      <th>species</th>\n",
       "      <th>island</th>\n",
       "      <th>bill_length_mm</th>\n",
       "      <th>bill_depth_mm</th>\n",
       "      <th>flipper_length_mm</th>\n",
       "      <th>body_mass_g</th>\n",
       "      <th>sex</th>\n",
       "    </tr>\n",
       "  </thead>\n",
       "  <tbody>\n",
       "    <tr>\n",
       "      <th>169</th>\n",
       "      <td>Gentoo</td>\n",
       "      <td>Biscoe</td>\n",
       "      <td>49.2</td>\n",
       "      <td>15.2</td>\n",
       "      <td>221.0</td>\n",
       "      <td>6300.0</td>\n",
       "      <td>male</td>\n",
       "    </tr>\n",
       "  </tbody>\n",
       "</table>\n",
       "</div>"
      ],
      "text/plain": [
       "    species  island  bill_length_mm  bill_depth_mm  flipper_length_mm  \\\n",
       "169  Gentoo  Biscoe            49.2           15.2              221.0   \n",
       "\n",
       "     body_mass_g   sex  \n",
       "169       6300.0  male  "
      ]
     },
     "execution_count": 49,
     "metadata": {},
     "output_type": "execute_result"
    }
   ],
   "source": [
    "outliers_body_mass_g"
   ]
  },
  {
   "cell_type": "markdown",
   "id": "465bccc6",
   "metadata": {
    "id": "VEMNdfc9RnBq",
    "papermill": {
     "duration": 0.028263,
     "end_time": "2025-06-10T12:54:58.579882",
     "exception": false,
     "start_time": "2025-06-10T12:54:58.551619",
     "status": "completed"
    },
    "tags": []
   },
   "source": [
    "## 5. Исследование взаимосвязей признаков\n",
    "\n"
   ]
  },
  {
   "cell_type": "markdown",
   "id": "550e4472",
   "metadata": {
    "id": "9nV0EwBcVVpN",
    "papermill": {
     "duration": 0.028285,
     "end_time": "2025-06-10T12:54:58.636268",
     "exception": false,
     "start_time": "2025-06-10T12:54:58.607983",
     "status": "completed"
    },
    "tags": []
   },
   "source": [
    "### Зависимость между весом и Длиной клюва в миллиметрах"
   ]
  },
  {
   "cell_type": "code",
   "execution_count": 50,
   "id": "09efed31",
   "metadata": {
    "execution": {
     "iopub.execute_input": "2025-06-10T12:54:58.691603Z",
     "iopub.status.busy": "2025-06-10T12:54:58.691311Z",
     "iopub.status.idle": "2025-06-10T12:54:58.888513Z",
     "shell.execute_reply": "2025-06-10T12:54:58.887552Z"
    },
    "id": "5FI-avThVVpN",
    "outputId": "c49edbbd-9b4c-4314-d060-5795c7bc1981",
    "papermill": {
     "duration": 0.226552,
     "end_time": "2025-06-10T12:54:58.890096",
     "exception": false,
     "start_time": "2025-06-10T12:54:58.663544",
     "status": "completed"
    },
    "tags": []
   },
   "outputs": [
    {
     "data": {
      "image/png": "[encoded data removed]",
      "text/plain": [
       "<Figure size 1200x700 with 1 Axes>"
      ]
     },
     "metadata": {},
     "output_type": "display_data"
    }
   ],
   "source": [
    "plt.figure(figsize=(12, 7))\n",
    "plt.plot(body_mass_g.sort_values(), bill_length_mm.sort_values(), linestyle='-', color='b',)\n",
    "plt.title(\"Зависимость между весом и Длиной клюва в миллиметрах\")\n",
    "plt.grid()\n",
    "plt.show()"
   ]
  },
  {
   "cell_type": "markdown",
   "id": "6ad7ec4f",
   "metadata": {
    "id": "Y7Xy5SPzVVpO",
    "papermill": {
     "duration": 0.028577,
     "end_time": "2025-06-10T12:54:58.947357",
     "exception": false,
     "start_time": "2025-06-10T12:54:58.918780",
     "status": "completed"
    },
    "tags": []
   },
   "source": [
    "Зависимость присутствует\n",
    "\n"
   ]
  },
  {
   "cell_type": "markdown",
   "id": "f71592a0",
   "metadata": {
    "id": "v0U4G-LIVrln",
    "papermill": {
     "duration": 0.02716,
     "end_time": "2025-06-10T12:54:59.001978",
     "exception": false,
     "start_time": "2025-06-10T12:54:58.974818",
     "status": "completed"
    },
    "tags": []
   },
   "source": [
    "### Зависимость между весом и Глибины клюва в миллиметрах\n",
    "\n",
    "\n"
   ]
  },
  {
   "cell_type": "code",
   "execution_count": 51,
   "id": "95a3b623",
   "metadata": {
    "execution": {
     "iopub.execute_input": "2025-06-10T12:54:59.058232Z",
     "iopub.status.busy": "2025-06-10T12:54:59.057775Z",
     "iopub.status.idle": "2025-06-10T12:54:59.240341Z",
     "shell.execute_reply": "2025-06-10T12:54:59.239442Z"
    },
    "id": "EGIrj5wnVrln",
    "outputId": "b2a95a6d-2f04-4802-9a3e-f14c568e6463",
    "papermill": {
     "duration": 0.212679,
     "end_time": "2025-06-10T12:54:59.242137",
     "exception": false,
     "start_time": "2025-06-10T12:54:59.029458",
     "status": "completed"
    },
    "tags": []
   },
   "outputs": [
    {
     "data": {
      "image/png": "[encoded data removed]",
      "text/plain": [
       "<Figure size 1200x700 with 1 Axes>"
      ]
     },
     "metadata": {},
     "output_type": "display_data"
    }
   ],
   "source": [
    "plt.figure(figsize=(12, 7))\n",
    "plt.plot(body_mass_g.sort_values(), bill_depth_mm.sort_values(), linestyle='-', color='b',)\n",
    "plt.title(\"Зависимость между весом и Глибины клюва в миллиметрах\")\n",
    "plt.grid()\n",
    "plt.show()"
   ]
  },
  {
   "cell_type": "markdown",
   "id": "2cab7955",
   "metadata": {
    "id": "pLfgDorzVrln",
    "papermill": {
     "duration": 0.027874,
     "end_time": "2025-06-10T12:54:59.299318",
     "exception": false,
     "start_time": "2025-06-10T12:54:59.271444",
     "status": "completed"
    },
    "tags": []
   },
   "source": [
    "Зависимость присутствует\n",
    "\n",
    "\n"
   ]
  },
  {
   "cell_type": "markdown",
   "id": "59a0762a",
   "metadata": {
    "id": "humSO8GeRnAU",
    "papermill": {
     "duration": 0.02796,
     "end_time": "2025-06-10T12:54:59.357752",
     "exception": false,
     "start_time": "2025-06-10T12:54:59.329792",
     "status": "completed"
    },
    "tags": []
   },
   "source": [
    "### Зависимость между весом и Длиной ласт"
   ]
  },
  {
   "cell_type": "code",
   "execution_count": 52,
   "id": "181e0914",
   "metadata": {
    "execution": {
     "iopub.execute_input": "2025-06-10T12:54:59.418326Z",
     "iopub.status.busy": "2025-06-10T12:54:59.418000Z",
     "iopub.status.idle": "2025-06-10T12:54:59.634397Z",
     "shell.execute_reply": "2025-06-10T12:54:59.633215Z"
    },
    "id": "z44qLllmTVy8",
    "outputId": "4e16c25c-3aab-441e-b262-b8e47733e9d9",
    "papermill": {
     "duration": 0.24735,
     "end_time": "2025-06-10T12:54:59.636157",
     "exception": false,
     "start_time": "2025-06-10T12:54:59.388807",
     "status": "completed"
    },
    "tags": []
   },
   "outputs": [
    {
     "data": {
      "image/png": "[encoded data removed]",
      "text/plain": [
       "<Figure size 1200x700 with 1 Axes>"
      ]
     },
     "metadata": {},
     "output_type": "display_data"
    }
   ],
   "source": [
    "plt.figure(figsize=(12, 7))\n",
    "plt.plot(body_mass_g.sort_values(), flipper_length_mm.sort_values(), linestyle='-', color='b',)\n",
    "plt.title(\"Зависимость между весом и Длиной ласт\")\n",
    "plt.grid()\n",
    "plt.show()"
   ]
  },
  {
   "cell_type": "markdown",
   "id": "79d2749e",
   "metadata": {
    "id": "8xuBRQ4HT4P0",
    "papermill": {
     "duration": 0.027994,
     "end_time": "2025-06-10T12:54:59.694012",
     "exception": false,
     "start_time": "2025-06-10T12:54:59.666018",
     "status": "completed"
    },
    "tags": []
   },
   "source": [
    "Зависимость присутствует"
   ]
  },
  {
   "cell_type": "markdown",
   "id": "475ba8bd",
   "metadata": {
    "id": "iaHK93mnV4Ts",
    "papermill": {
     "duration": 0.02926,
     "end_time": "2025-06-10T12:54:59.751682",
     "exception": false,
     "start_time": "2025-06-10T12:54:59.722422",
     "status": "completed"
    },
    "tags": []
   },
   "source": [
    "Вес коррелирует со всеми признаками"
   ]
  },
  {
   "cell_type": "markdown",
   "id": "cd3cf621",
   "metadata": {
    "id": "4q4ZOPYMV_IJ",
    "papermill": {
     "duration": 0.027574,
     "end_time": "2025-06-10T12:54:59.807452",
     "exception": false,
     "start_time": "2025-06-10T12:54:59.779878",
     "status": "completed"
    },
    "tags": []
   },
   "source": [
    "### Зависимость между длиной и глубиной клюва"
   ]
  },
  {
   "cell_type": "code",
   "execution_count": 53,
   "id": "2d6f056a",
   "metadata": {
    "execution": {
     "iopub.execute_input": "2025-06-10T12:54:59.867687Z",
     "iopub.status.busy": "2025-06-10T12:54:59.866793Z",
     "iopub.status.idle": "2025-06-10T12:55:00.050404Z",
     "shell.execute_reply": "2025-06-10T12:55:00.049476Z"
    },
    "id": "hvg8ITG-WHMr",
    "outputId": "dc0a963f-d03b-48e9-88c7-07691686c9e2",
    "papermill": {
     "duration": 0.215829,
     "end_time": "2025-06-10T12:55:00.052197",
     "exception": false,
     "start_time": "2025-06-10T12:54:59.836368",
     "status": "completed"
    },
    "tags": []
   },
   "outputs": [
    {
     "data": {
      "image/png": "[encoded data removed]",
      "text/plain": [
       "<Figure size 1200x700 with 1 Axes>"
      ]
     },
     "metadata": {},
     "output_type": "display_data"
    }
   ],
   "source": [
    "plt.figure(figsize=(12, 7))\n",
    "plt.plot(bill_length_mm.sort_values(), bill_depth_mm.sort_values(), linestyle='-', color='b',)\n",
    "plt.title(\"Зависимость между длиной и глубиной клюва\")\n",
    "plt.grid()\n",
    "plt.show()"
   ]
  },
  {
   "cell_type": "markdown",
   "id": "a04d20e4",
   "metadata": {
    "id": "XXSVohmxWMim",
    "papermill": {
     "duration": 0.028332,
     "end_time": "2025-06-10T12:55:00.109492",
     "exception": false,
     "start_time": "2025-06-10T12:55:00.081160",
     "status": "completed"
    },
    "tags": []
   },
   "source": [
    "Зависимость присутствует"
   ]
  },
  {
   "cell_type": "markdown",
   "id": "d50787c9",
   "metadata": {
    "id": "__96dPmKWavE",
    "papermill": {
     "duration": 0.028822,
     "end_time": "2025-06-10T12:55:00.166634",
     "exception": false,
     "start_time": "2025-06-10T12:55:00.137812",
     "status": "completed"
    },
    "tags": []
   },
   "source": [
    "## 6. Построение тепловой карты корреляций\n",
    "\n",
    "\n"
   ]
  },
  {
   "cell_type": "code",
   "execution_count": 54,
   "id": "482aecd8",
   "metadata": {
    "execution": {
     "iopub.execute_input": "2025-06-10T12:55:00.225457Z",
     "iopub.status.busy": "2025-06-10T12:55:00.225135Z",
     "iopub.status.idle": "2025-06-10T12:55:00.612366Z",
     "shell.execute_reply": "2025-06-10T12:55:00.611526Z"
    },
    "id": "578QlMLRWmB7",
    "outputId": "aa24b0ab-dc58-4b5d-91b6-638973f099cf",
    "papermill": {
     "duration": 0.4188,
     "end_time": "2025-06-10T12:55:00.614268",
     "exception": false,
     "start_time": "2025-06-10T12:55:00.195468",
     "status": "completed"
    },
    "tags": []
   },
   "outputs": [
    {
     "data": {
      "image/png": "[encoded data removed]",
      "text/plain": [
       "<Figure size 1200x700 with 2 Axes>"
      ]
     },
     "metadata": {},
     "output_type": "display_data"
    }
   ],
   "source": [
    "corr_matrix = df_origin.select_dtypes(include=[\"number\"]).corr()\n",
    "\n",
    "plt.figure(figsize=(12, 7))\n",
    "sns.heatmap(corr_matrix, annot=True, cmap=\"coolwarm\", fmt=\".2f\", linewidths=0.5)\n",
    "plt.title(\"Тепловая карта корреляции признаков\")\n",
    "\n",
    "plt.show()"
   ]
  },
  {
   "cell_type": "markdown",
   "id": "5b54e9cb",
   "metadata": {
    "id": "SCLIVYsmXS57",
    "papermill": {
     "duration": 0.029469,
     "end_time": "2025-06-10T12:55:00.674954",
     "exception": false,
     "start_time": "2025-06-10T12:55:00.645485",
     "status": "completed"
    },
    "tags": []
   },
   "source": [
    "## 7. Заполнение пропущенных значений"
   ]
  },
  {
   "cell_type": "code",
   "execution_count": 55,
   "id": "db17582f",
   "metadata": {
    "execution": {
     "iopub.execute_input": "2025-06-10T12:55:00.734724Z",
     "iopub.status.busy": "2025-06-10T12:55:00.734399Z",
     "iopub.status.idle": "2025-06-10T12:55:00.741848Z",
     "shell.execute_reply": "2025-06-10T12:55:00.740834Z"
    },
    "id": "-qaReMjoXjs7",
    "outputId": "0e9a8187-3b6e-40d1-d463-8f16dc948299",
    "papermill": {
     "duration": 0.03931,
     "end_time": "2025-06-10T12:55:00.743521",
     "exception": false,
     "start_time": "2025-06-10T12:55:00.704211",
     "status": "completed"
    },
    "tags": []
   },
   "outputs": [
    {
     "data": {
      "text/plain": [
       "species               0\n",
       "island                0\n",
       "bill_length_mm        2\n",
       "bill_depth_mm         2\n",
       "flipper_length_mm     2\n",
       "body_mass_g           2\n",
       "sex                  11\n",
       "dtype: int64"
      ]
     },
     "execution_count": 55,
     "metadata": {},
     "output_type": "execute_result"
    }
   ],
   "source": [
    "df_origin.isna().sum()"
   ]
  },
  {
   "cell_type": "markdown",
   "id": "55c892f9",
   "metadata": {
    "id": "NYZ-sdXTYwyT",
    "papermill": {
     "duration": 0.029374,
     "end_time": "2025-06-10T12:55:00.802706",
     "exception": false,
     "start_time": "2025-06-10T12:55:00.773332",
     "status": "completed"
    },
    "tags": []
   },
   "source": [
    "Длину клюва, Глубину клюва, Длину ласт, Вес, можно заменить на медиану в зависимости от пола"
   ]
  },
  {
   "cell_type": "markdown",
   "id": "b64eaca8",
   "metadata": {
    "id": "eqTPPELvZ0-8",
    "papermill": {
     "duration": 0.031967,
     "end_time": "2025-06-10T12:55:00.864191",
     "exception": false,
     "start_time": "2025-06-10T12:55:00.832224",
     "status": "completed"
    },
    "tags": []
   },
   "source": [
    "### Замена пропусков для длины клюва"
   ]
  },
  {
   "cell_type": "code",
   "execution_count": 56,
   "id": "50fe0904",
   "metadata": {
    "execution": {
     "iopub.execute_input": "2025-06-10T12:55:00.925338Z",
     "iopub.status.busy": "2025-06-10T12:55:00.924967Z",
     "iopub.status.idle": "2025-06-10T12:55:00.931495Z",
     "shell.execute_reply": "2025-06-10T12:55:00.930722Z"
    },
    "id": "BytMgXNVY9aM",
    "papermill": {
     "duration": 0.039204,
     "end_time": "2025-06-10T12:55:00.933220",
     "exception": false,
     "start_time": "2025-06-10T12:55:00.894016",
     "status": "completed"
    },
    "tags": []
   },
   "outputs": [],
   "source": [
    "median_bill_length_mm_male = df_origin[df_origin['sex'] == 'male']['bill_length_mm'].median()\n",
    "median_bill_length_mm_female = df_origin[df_origin['sex'] == 'female']['bill_length_mm'].median()"
   ]
  },
  {
   "cell_type": "code",
   "execution_count": 57,
   "id": "4a236dc1",
   "metadata": {
    "execution": {
     "iopub.execute_input": "2025-06-10T12:55:00.994865Z",
     "iopub.status.busy": "2025-06-10T12:55:00.994491Z",
     "iopub.status.idle": "2025-06-10T12:55:01.000517Z",
     "shell.execute_reply": "2025-06-10T12:55:00.999571Z"
    },
    "id": "3io2g-79Zfzr",
    "outputId": "61dd9e4e-7417-4032-9e3e-e5684306a919",
    "papermill": {
     "duration": 0.038454,
     "end_time": "2025-06-10T12:55:01.002097",
     "exception": false,
     "start_time": "2025-06-10T12:55:00.963643",
     "status": "completed"
    },
    "tags": []
   },
   "outputs": [
    {
     "data": {
      "text/plain": [
       "(46.8, 42.8)"
      ]
     },
     "execution_count": 57,
     "metadata": {},
     "output_type": "execute_result"
    }
   ],
   "source": [
    "median_bill_length_mm_male, median_bill_length_mm_female"
   ]
  },
  {
   "cell_type": "code",
   "execution_count": 58,
   "id": "d071fcfe",
   "metadata": {
    "execution": {
     "iopub.execute_input": "2025-06-10T12:55:01.065031Z",
     "iopub.status.busy": "2025-06-10T12:55:01.064737Z",
     "iopub.status.idle": "2025-06-10T12:55:01.071134Z",
     "shell.execute_reply": "2025-06-10T12:55:01.070099Z"
    },
    "id": "wXsttnmmZ65s",
    "papermill": {
     "duration": 0.039573,
     "end_time": "2025-06-10T12:55:01.072882",
     "exception": false,
     "start_time": "2025-06-10T12:55:01.033309",
     "status": "completed"
    },
    "tags": []
   },
   "outputs": [],
   "source": [
    "missing_mask = (df_origin[\"sex\"] == \"male\") & df_origin[\"bill_length_mm\"].isna()\n",
    "df_origin.loc[missing_mask, \"bill_length_mm\"] = median_bill_length_mm_male"
   ]
  },
  {
   "cell_type": "code",
   "execution_count": 59,
   "id": "544e0b4b",
   "metadata": {
    "execution": {
     "iopub.execute_input": "2025-06-10T12:55:01.135188Z",
     "iopub.status.busy": "2025-06-10T12:55:01.134874Z",
     "iopub.status.idle": "2025-06-10T12:55:01.140585Z",
     "shell.execute_reply": "2025-06-10T12:55:01.139738Z"
    },
    "id": "T0N3_niZakPb",
    "papermill": {
     "duration": 0.03887,
     "end_time": "2025-06-10T12:55:01.142162",
     "exception": false,
     "start_time": "2025-06-10T12:55:01.103292",
     "status": "completed"
    },
    "tags": []
   },
   "outputs": [],
   "source": [
    "missing_mask = (df_origin[\"sex\"] == \"female\") & df_origin[\"bill_length_mm\"].isna()\n",
    "df_origin.loc[missing_mask, \"bill_length_mm\"] = median_bill_length_mm_female"
   ]
  },
  {
   "cell_type": "code",
   "execution_count": 60,
   "id": "5f42b463",
   "metadata": {
    "execution": {
     "iopub.execute_input": "2025-06-10T12:55:01.204533Z",
     "iopub.status.busy": "2025-06-10T12:55:01.204251Z",
     "iopub.status.idle": "2025-06-10T12:55:01.210429Z",
     "shell.execute_reply": "2025-06-10T12:55:01.209623Z"
    },
    "id": "OY2RDJena5_D",
    "outputId": "b5cc1250-ab61-4d3a-9651-9c83827c161e",
    "papermill": {
     "duration": 0.039462,
     "end_time": "2025-06-10T12:55:01.211887",
     "exception": false,
     "start_time": "2025-06-10T12:55:01.172425",
     "status": "completed"
    },
    "tags": []
   },
   "outputs": [
    {
     "data": {
      "text/plain": [
       "0"
      ]
     },
     "execution_count": 60,
     "metadata": {},
     "output_type": "execute_result"
    }
   ],
   "source": [
    "missing_mask.sum()"
   ]
  },
  {
   "cell_type": "code",
   "execution_count": 61,
   "id": "30b387c3",
   "metadata": {
    "execution": {
     "iopub.execute_input": "2025-06-10T12:55:01.274426Z",
     "iopub.status.busy": "2025-06-10T12:55:01.274108Z",
     "iopub.status.idle": "2025-06-10T12:55:01.281722Z",
     "shell.execute_reply": "2025-06-10T12:55:01.280860Z"
    },
    "id": "GGTnTozjaqCb",
    "outputId": "183c6715-72dd-4383-e732-62bbcec3850a",
    "papermill": {
     "duration": 0.040624,
     "end_time": "2025-06-10T12:55:01.283181",
     "exception": false,
     "start_time": "2025-06-10T12:55:01.242557",
     "status": "completed"
    },
    "tags": []
   },
   "outputs": [
    {
     "data": {
      "text/plain": [
       "species               0\n",
       "island                0\n",
       "bill_length_mm        2\n",
       "bill_depth_mm         2\n",
       "flipper_length_mm     2\n",
       "body_mass_g           2\n",
       "sex                  11\n",
       "dtype: int64"
      ]
     },
     "execution_count": 61,
     "metadata": {},
     "output_type": "execute_result"
    }
   ],
   "source": [
    "df_origin.isna().sum()"
   ]
  },
  {
   "cell_type": "markdown",
   "id": "61493f9c",
   "metadata": {
    "id": "G5mS0a_kbQwr",
    "papermill": {
     "duration": 0.034331,
     "end_time": "2025-06-10T12:55:01.350523",
     "exception": false,
     "start_time": "2025-06-10T12:55:01.316192",
     "status": "completed"
    },
    "tags": []
   },
   "source": [
    "Пропущены все значения из строчки, кроме вида и острова, лучше будет удалить эти данные или заменить в соответсвии с этими признаками"
   ]
  },
  {
   "cell_type": "code",
   "execution_count": 62,
   "id": "c4deb3c0",
   "metadata": {
    "execution": {
     "iopub.execute_input": "2025-06-10T12:55:01.416415Z",
     "iopub.status.busy": "2025-06-10T12:55:01.415632Z",
     "iopub.status.idle": "2025-06-10T12:55:01.422615Z",
     "shell.execute_reply": "2025-06-10T12:55:01.421697Z"
    },
    "id": "oIylaOHlbofr",
    "papermill": {
     "duration": 0.040648,
     "end_time": "2025-06-10T12:55:01.424266",
     "exception": false,
     "start_time": "2025-06-10T12:55:01.383618",
     "status": "completed"
    },
    "tags": []
   },
   "outputs": [],
   "source": [
    "df = df_origin.dropna(subset=[\"bill_length_mm\"]).copy()\n"
   ]
  },
  {
   "cell_type": "code",
   "execution_count": 63,
   "id": "08f87d5a",
   "metadata": {
    "execution": {
     "iopub.execute_input": "2025-06-10T12:55:01.496906Z",
     "iopub.status.busy": "2025-06-10T12:55:01.495367Z",
     "iopub.status.idle": "2025-06-10T12:55:01.508861Z",
     "shell.execute_reply": "2025-06-10T12:55:01.507853Z"
    },
    "id": "RZo5_OwsbwL7",
    "outputId": "a73622ed-fc1d-45ae-b8bf-0bc8c19c8f42",
    "papermill": {
     "duration": 0.054944,
     "end_time": "2025-06-10T12:55:01.510554",
     "exception": false,
     "start_time": "2025-06-10T12:55:01.455610",
     "status": "completed"
    },
    "tags": []
   },
   "outputs": [
    {
     "data": {
      "text/plain": [
       "species              0\n",
       "island               0\n",
       "bill_length_mm       0\n",
       "bill_depth_mm        0\n",
       "flipper_length_mm    0\n",
       "body_mass_g          0\n",
       "sex                  9\n",
       "dtype: int64"
      ]
     },
     "execution_count": 63,
     "metadata": {},
     "output_type": "execute_result"
    }
   ],
   "source": [
    "df.isna().sum()"
   ]
  },
  {
   "cell_type": "markdown",
   "id": "e82bae40",
   "metadata": {
    "id": "8SO5LV0Iby97",
    "papermill": {
     "duration": 0.032196,
     "end_time": "2025-06-10T12:55:01.580596",
     "exception": false,
     "start_time": "2025-06-10T12:55:01.548400",
     "status": "completed"
    },
    "tags": []
   },
   "source": [
    "Пол можно заменить в зависимости от веса и вида"
   ]
  },
  {
   "cell_type": "code",
   "execution_count": 64,
   "id": "8712ffe6",
   "metadata": {
    "execution": {
     "iopub.execute_input": "2025-06-10T12:55:01.644072Z",
     "iopub.status.busy": "2025-06-10T12:55:01.643757Z",
     "iopub.status.idle": "2025-06-10T12:55:01.651353Z",
     "shell.execute_reply": "2025-06-10T12:55:01.650272Z"
    },
    "id": "3safRpTbqeAW",
    "outputId": "400f5631-1c9f-4059-e991-8342fb6cb19b",
    "papermill": {
     "duration": 0.041573,
     "end_time": "2025-06-10T12:55:01.653133",
     "exception": false,
     "start_time": "2025-06-10T12:55:01.611560",
     "status": "completed"
    },
    "tags": []
   },
   "outputs": [
    {
     "data": {
      "text/plain": [
       "species\n",
       "Adelie       152\n",
       "Gentoo       124\n",
       "Chinstrap     68\n",
       "Name: count, dtype: int64"
      ]
     },
     "execution_count": 64,
     "metadata": {},
     "output_type": "execute_result"
    }
   ],
   "source": [
    "species.value_counts()"
   ]
  },
  {
   "cell_type": "code",
   "execution_count": 65,
   "id": "a950f277",
   "metadata": {
    "execution": {
     "iopub.execute_input": "2025-06-10T12:55:01.716167Z",
     "iopub.status.busy": "2025-06-10T12:55:01.715842Z",
     "iopub.status.idle": "2025-06-10T12:55:01.729200Z",
     "shell.execute_reply": "2025-06-10T12:55:01.728159Z"
    },
    "id": "Tu7-pMSOqvNN",
    "outputId": "c382e1d5-9d04-45f0-9253-4e6f2e915805",
    "papermill": {
     "duration": 0.047166,
     "end_time": "2025-06-10T12:55:01.730730",
     "exception": false,
     "start_time": "2025-06-10T12:55:01.683564",
     "status": "completed"
    },
    "tags": []
   },
   "outputs": [
    {
     "data": {
      "text/html": [
       "<div>\n",
       "<style scoped>\n",
       "    .dataframe tbody tr th:only-of-type {\n",
       "        vertical-align: middle;\n",
       "    }\n",
       "\n",
       "    .dataframe tbody tr th {\n",
       "        vertical-align: top;\n",
       "    }\n",
       "\n",
       "    .dataframe thead th {\n",
       "        text-align: right;\n",
       "    }\n",
       "</style>\n",
       "<table border=\"1\" class=\"dataframe\">\n",
       "  <thead>\n",
       "    <tr style=\"text-align: right;\">\n",
       "      <th></th>\n",
       "      <th>species</th>\n",
       "      <th>island</th>\n",
       "      <th>bill_length_mm</th>\n",
       "      <th>bill_depth_mm</th>\n",
       "      <th>flipper_length_mm</th>\n",
       "      <th>body_mass_g</th>\n",
       "      <th>sex</th>\n",
       "    </tr>\n",
       "  </thead>\n",
       "  <tbody>\n",
       "    <tr>\n",
       "      <th>0</th>\n",
       "      <td>Adelie</td>\n",
       "      <td>Torgersen</td>\n",
       "      <td>39.1</td>\n",
       "      <td>18.7</td>\n",
       "      <td>181.0</td>\n",
       "      <td>3750.0</td>\n",
       "      <td>male</td>\n",
       "    </tr>\n",
       "    <tr>\n",
       "      <th>1</th>\n",
       "      <td>Adelie</td>\n",
       "      <td>Torgersen</td>\n",
       "      <td>39.5</td>\n",
       "      <td>17.4</td>\n",
       "      <td>186.0</td>\n",
       "      <td>3800.0</td>\n",
       "      <td>female</td>\n",
       "    </tr>\n",
       "    <tr>\n",
       "      <th>2</th>\n",
       "      <td>Adelie</td>\n",
       "      <td>Torgersen</td>\n",
       "      <td>40.3</td>\n",
       "      <td>18.0</td>\n",
       "      <td>195.0</td>\n",
       "      <td>3250.0</td>\n",
       "      <td>female</td>\n",
       "    </tr>\n",
       "    <tr>\n",
       "      <th>4</th>\n",
       "      <td>Adelie</td>\n",
       "      <td>Torgersen</td>\n",
       "      <td>36.7</td>\n",
       "      <td>19.3</td>\n",
       "      <td>193.0</td>\n",
       "      <td>3450.0</td>\n",
       "      <td>female</td>\n",
       "    </tr>\n",
       "    <tr>\n",
       "      <th>5</th>\n",
       "      <td>Adelie</td>\n",
       "      <td>Torgersen</td>\n",
       "      <td>39.3</td>\n",
       "      <td>20.6</td>\n",
       "      <td>190.0</td>\n",
       "      <td>3650.0</td>\n",
       "      <td>male</td>\n",
       "    </tr>\n",
       "  </tbody>\n",
       "</table>\n",
       "</div>"
      ],
      "text/plain": [
       "  species     island  bill_length_mm  bill_depth_mm  flipper_length_mm  \\\n",
       "0  Adelie  Torgersen            39.1           18.7              181.0   \n",
       "1  Adelie  Torgersen            39.5           17.4              186.0   \n",
       "2  Adelie  Torgersen            40.3           18.0              195.0   \n",
       "4  Adelie  Torgersen            36.7           19.3              193.0   \n",
       "5  Adelie  Torgersen            39.3           20.6              190.0   \n",
       "\n",
       "   body_mass_g     sex  \n",
       "0       3750.0    male  \n",
       "1       3800.0  female  \n",
       "2       3250.0  female  \n",
       "4       3450.0  female  \n",
       "5       3650.0    male  "
      ]
     },
     "execution_count": 65,
     "metadata": {},
     "output_type": "execute_result"
    }
   ],
   "source": [
    "df.head()"
   ]
  },
  {
   "cell_type": "code",
   "execution_count": 66,
   "id": "2b244532",
   "metadata": {
    "execution": {
     "iopub.execute_input": "2025-06-10T12:55:01.794742Z",
     "iopub.status.busy": "2025-06-10T12:55:01.794420Z",
     "iopub.status.idle": "2025-06-10T12:55:01.802057Z",
     "shell.execute_reply": "2025-06-10T12:55:01.800935Z"
    },
    "id": "tbIjMI0aqp5f",
    "papermill": {
     "duration": 0.041288,
     "end_time": "2025-06-10T12:55:01.804021",
     "exception": false,
     "start_time": "2025-06-10T12:55:01.762733",
     "status": "completed"
    },
    "tags": []
   },
   "outputs": [],
   "source": [
    "median_male_adelie = df[(df[\"sex\"] == \"male\") & (df[\"species\"] == \"Adelie\")][\"body_mass_g\"].median()\n",
    "median_female_adelie = df[(df[\"sex\"] == \"female\") & (df[\"species\"] == \"Adelie\")][\"body_mass_g\"].median()\n",
    "median_difference_adelie = (median_male_adelie + median_female_adelie) / 2"
   ]
  },
  {
   "cell_type": "code",
   "execution_count": 67,
   "id": "93973a56",
   "metadata": {
    "execution": {
     "iopub.execute_input": "2025-06-10T12:55:01.866577Z",
     "iopub.status.busy": "2025-06-10T12:55:01.866218Z",
     "iopub.status.idle": "2025-06-10T12:55:01.871904Z",
     "shell.execute_reply": "2025-06-10T12:55:01.870979Z"
    },
    "id": "5H6L0TEAq9u7",
    "outputId": "084027dd-3bd0-4536-de92-14859f3ab0b2",
    "papermill": {
     "duration": 0.039127,
     "end_time": "2025-06-10T12:55:01.873570",
     "exception": false,
     "start_time": "2025-06-10T12:55:01.834443",
     "status": "completed"
    },
    "tags": []
   },
   "outputs": [
    {
     "data": {
      "text/plain": [
       "3700.0"
      ]
     },
     "execution_count": 67,
     "metadata": {},
     "output_type": "execute_result"
    }
   ],
   "source": [
    "median_difference_adelie"
   ]
  },
  {
   "cell_type": "code",
   "execution_count": 68,
   "id": "95d7573a",
   "metadata": {
    "execution": {
     "iopub.execute_input": "2025-06-10T12:55:01.936844Z",
     "iopub.status.busy": "2025-06-10T12:55:01.936504Z",
     "iopub.status.idle": "2025-06-10T12:55:01.946537Z",
     "shell.execute_reply": "2025-06-10T12:55:01.945487Z"
    },
    "id": "Y3D9EsjkrHSW",
    "papermill": {
     "duration": 0.043499,
     "end_time": "2025-06-10T12:55:01.948350",
     "exception": false,
     "start_time": "2025-06-10T12:55:01.904851",
     "status": "completed"
    },
    "tags": []
   },
   "outputs": [],
   "source": [
    "median_male_gentoo = df[(df[\"sex\"] == \"male\") & (df[\"species\"] == \"Gentoo\")][\"body_mass_g\"].median()\n",
    "median_female_gentoo = df[(df[\"sex\"] == \"female\") & (df[\"species\"] == \"Gentoo\")][\"body_mass_g\"].median()\n",
    "median_difference_gentoo = (median_male_gentoo + median_female_gentoo) / 2"
   ]
  },
  {
   "cell_type": "code",
   "execution_count": 69,
   "id": "af4b8b19",
   "metadata": {
    "execution": {
     "iopub.execute_input": "2025-06-10T12:55:02.011800Z",
     "iopub.status.busy": "2025-06-10T12:55:02.011442Z",
     "iopub.status.idle": "2025-06-10T12:55:02.017565Z",
     "shell.execute_reply": "2025-06-10T12:55:02.016640Z"
    },
    "id": "4gdwMR_mrHSX",
    "outputId": "52194c24-99a1-460b-956f-22f7f63b177d",
    "papermill": {
     "duration": 0.040014,
     "end_time": "2025-06-10T12:55:02.019279",
     "exception": false,
     "start_time": "2025-06-10T12:55:01.979265",
     "status": "completed"
    },
    "tags": []
   },
   "outputs": [
    {
     "data": {
      "text/plain": [
       "5100.0"
      ]
     },
     "execution_count": 69,
     "metadata": {},
     "output_type": "execute_result"
    }
   ],
   "source": [
    "median_difference_gentoo"
   ]
  },
  {
   "cell_type": "code",
   "execution_count": 70,
   "id": "7f05dae0",
   "metadata": {
    "execution": {
     "iopub.execute_input": "2025-06-10T12:55:02.082636Z",
     "iopub.status.busy": "2025-06-10T12:55:02.082319Z",
     "iopub.status.idle": "2025-06-10T12:55:02.090179Z",
     "shell.execute_reply": "2025-06-10T12:55:02.088808Z"
    },
    "id": "vj9zyQFbrHqF",
    "papermill": {
     "duration": 0.041908,
     "end_time": "2025-06-10T12:55:02.091810",
     "exception": false,
     "start_time": "2025-06-10T12:55:02.049902",
     "status": "completed"
    },
    "tags": []
   },
   "outputs": [],
   "source": [
    "median_male_chinstrap = df[(df[\"sex\"] == \"male\") & (df[\"species\"] == \"Chinstrap\")][\"body_mass_g\"].median()\n",
    "median_female_chinstrap = df[(df[\"sex\"] == \"female\") & (df[\"species\"] == \"Chinstrap\")][\"body_mass_g\"].median()\n",
    "median_difference_chinstrap = (median_male_chinstrap + median_female_chinstrap) / 2"
   ]
  },
  {
   "cell_type": "code",
   "execution_count": 71,
   "id": "ed5cfba7",
   "metadata": {
    "execution": {
     "iopub.execute_input": "2025-06-10T12:55:02.156928Z",
     "iopub.status.busy": "2025-06-10T12:55:02.156569Z",
     "iopub.status.idle": "2025-06-10T12:55:02.163687Z",
     "shell.execute_reply": "2025-06-10T12:55:02.162712Z"
    },
    "id": "BBxmUW6NrHqG",
    "outputId": "c246ee53-c80a-4dba-bf20-4fe5686c426a",
    "papermill": {
     "duration": 0.040601,
     "end_time": "2025-06-10T12:55:02.165324",
     "exception": false,
     "start_time": "2025-06-10T12:55:02.124723",
     "status": "completed"
    },
    "tags": []
   },
   "outputs": [
    {
     "data": {
      "text/plain": [
       "3750.0"
      ]
     },
     "execution_count": 71,
     "metadata": {},
     "output_type": "execute_result"
    }
   ],
   "source": [
    "median_difference_chinstrap"
   ]
  },
  {
   "cell_type": "code",
   "execution_count": 72,
   "id": "f3cc7f43",
   "metadata": {
    "execution": {
     "iopub.execute_input": "2025-06-10T12:55:02.231096Z",
     "iopub.status.busy": "2025-06-10T12:55:02.230791Z",
     "iopub.status.idle": "2025-06-10T12:55:02.235258Z",
     "shell.execute_reply": "2025-06-10T12:55:02.234299Z"
    },
    "id": "h_5dNRaSr0oD",
    "papermill": {
     "duration": 0.039976,
     "end_time": "2025-06-10T12:55:02.236832",
     "exception": false,
     "start_time": "2025-06-10T12:55:02.196856",
     "status": "completed"
    },
    "tags": []
   },
   "outputs": [],
   "source": [
    "median_differences = {\n",
    "    \"Gentoo\": median_difference_gentoo,\n",
    "    \"Adelie\": median_difference_adelie,\n",
    "    \"Chinstrap\": median_difference_chinstrap\n",
    "}"
   ]
  },
  {
   "cell_type": "code",
   "execution_count": 73,
   "id": "8bf9536e",
   "metadata": {
    "execution": {
     "iopub.execute_input": "2025-06-10T12:55:02.300894Z",
     "iopub.status.busy": "2025-06-10T12:55:02.300545Z",
     "iopub.status.idle": "2025-06-10T12:55:02.310032Z",
     "shell.execute_reply": "2025-06-10T12:55:02.309111Z"
    },
    "id": "1HF3HILOb_wj",
    "papermill": {
     "duration": 0.042622,
     "end_time": "2025-06-10T12:55:02.311549",
     "exception": false,
     "start_time": "2025-06-10T12:55:02.268927",
     "status": "completed"
    },
    "tags": []
   },
   "outputs": [],
   "source": [
    "df.loc[df[\"sex\"].isna(), \"sex\"] = df.apply(\n",
    "    lambda row: \"female\" if row[\"body_mass_g\"] < median_differences[row[\"species\"]] else \"male\",\n",
    "    axis=1\n",
    ")"
   ]
  },
  {
   "cell_type": "markdown",
   "id": "058300b5",
   "metadata": {
    "id": "kjSjKK8Ks7DT",
    "papermill": {
     "duration": 0.032323,
     "end_time": "2025-06-10T12:55:02.376382",
     "exception": false,
     "start_time": "2025-06-10T12:55:02.344059",
     "status": "completed"
    },
    "tags": []
   },
   "source": [
    "## 8. Демонстрация результатов заполнения"
   ]
  },
  {
   "cell_type": "code",
   "execution_count": 74,
   "id": "9bfefa05",
   "metadata": {
    "execution": {
     "iopub.execute_input": "2025-06-10T12:55:02.441567Z",
     "iopub.status.busy": "2025-06-10T12:55:02.441250Z",
     "iopub.status.idle": "2025-06-10T12:55:02.448776Z",
     "shell.execute_reply": "2025-06-10T12:55:02.447712Z"
    },
    "id": "7SUdnUtEcimb",
    "outputId": "751af5ac-0fee-403b-8584-c0b715db4833",
    "papermill": {
     "duration": 0.041195,
     "end_time": "2025-06-10T12:55:02.450380",
     "exception": false,
     "start_time": "2025-06-10T12:55:02.409185",
     "status": "completed"
    },
    "tags": []
   },
   "outputs": [
    {
     "data": {
      "text/plain": [
       "species              0\n",
       "island               0\n",
       "bill_length_mm       0\n",
       "bill_depth_mm        0\n",
       "flipper_length_mm    0\n",
       "body_mass_g          0\n",
       "sex                  0\n",
       "dtype: int64"
      ]
     },
     "execution_count": 74,
     "metadata": {},
     "output_type": "execute_result"
    }
   ],
   "source": [
    "df.isna().sum()"
   ]
  },
  {
   "cell_type": "code",
   "execution_count": 75,
   "id": "08987bfd",
   "metadata": {
    "execution": {
     "iopub.execute_input": "2025-06-10T12:55:02.513542Z",
     "iopub.status.busy": "2025-06-10T12:55:02.513232Z",
     "iopub.status.idle": "2025-06-10T12:55:02.517694Z",
     "shell.execute_reply": "2025-06-10T12:55:02.516716Z"
    },
    "id": "ytKx6COWm5aX",
    "papermill": {
     "duration": 0.037993,
     "end_time": "2025-06-10T12:55:02.519262",
     "exception": false,
     "start_time": "2025-06-10T12:55:02.481269",
     "status": "completed"
    },
    "tags": []
   },
   "outputs": [],
   "source": [
    "sex = df['sex']"
   ]
  },
  {
   "cell_type": "code",
   "execution_count": 76,
   "id": "eddf575a",
   "metadata": {
    "execution": {
     "iopub.execute_input": "2025-06-10T12:55:02.583275Z",
     "iopub.status.busy": "2025-06-10T12:55:02.582965Z",
     "iopub.status.idle": "2025-06-10T12:55:02.589566Z",
     "shell.execute_reply": "2025-06-10T12:55:02.588711Z"
    },
    "id": "-hnJ0lMsm5aX",
    "outputId": "6145d0e2-deee-464c-a4cd-39e8b83f4c62",
    "papermill": {
     "duration": 0.040961,
     "end_time": "2025-06-10T12:55:02.591444",
     "exception": false,
     "start_time": "2025-06-10T12:55:02.550483",
     "status": "completed"
    },
    "tags": []
   },
   "outputs": [
    {
     "data": {
      "text/plain": [
       "342"
      ]
     },
     "execution_count": 76,
     "metadata": {},
     "output_type": "execute_result"
    }
   ],
   "source": [
    "sex.value_counts().sum()"
   ]
  },
  {
   "cell_type": "code",
   "execution_count": 77,
   "id": "4bef829e",
   "metadata": {
    "execution": {
     "iopub.execute_input": "2025-06-10T12:55:02.660165Z",
     "iopub.status.busy": "2025-06-10T12:55:02.659738Z",
     "iopub.status.idle": "2025-06-10T12:55:02.668079Z",
     "shell.execute_reply": "2025-06-10T12:55:02.667223Z"
    },
    "id": "XrnPHbVVm5aY",
    "outputId": "815d3418-5c2e-4ebc-e924-e15464b1f131",
    "papermill": {
     "duration": 0.045759,
     "end_time": "2025-06-10T12:55:02.669554",
     "exception": false,
     "start_time": "2025-06-10T12:55:02.623795",
     "status": "completed"
    },
    "tags": []
   },
   "outputs": [
    {
     "data": {
      "text/plain": [
       "sex\n",
       "female    172\n",
       "male      170\n",
       "Name: count, dtype: int64"
      ]
     },
     "execution_count": 77,
     "metadata": {},
     "output_type": "execute_result"
    }
   ],
   "source": [
    "sex.value_counts()"
   ]
  },
  {
   "cell_type": "markdown",
   "id": "f20c2a18",
   "metadata": {
    "id": "08quh5xSdMvr",
    "papermill": {
     "duration": 0.035917,
     "end_time": "2025-06-10T12:55:02.737852",
     "exception": false,
     "start_time": "2025-06-10T12:55:02.701935",
     "status": "completed"
    },
    "tags": []
   },
   "source": [
    "## 9. Применение нормализации данных\n",
    "\n"
   ]
  },
  {
   "cell_type": "code",
   "execution_count": 78,
   "id": "269572b6",
   "metadata": {
    "execution": {
     "iopub.execute_input": "2025-06-10T12:55:02.806322Z",
     "iopub.status.busy": "2025-06-10T12:55:02.806015Z",
     "iopub.status.idle": "2025-06-10T12:55:02.815437Z",
     "shell.execute_reply": "2025-06-10T12:55:02.814267Z"
    },
    "id": "HMl4Q-6xdK_T",
    "papermill": {
     "duration": 0.045175,
     "end_time": "2025-06-10T12:55:02.816953",
     "exception": false,
     "start_time": "2025-06-10T12:55:02.771778",
     "status": "completed"
    },
    "tags": []
   },
   "outputs": [],
   "source": [
    "scaler = MinMaxScaler()\n",
    "numeric_columns = [\"bill_length_mm\", \"bill_depth_mm\", \"flipper_length_mm\", \"body_mass_g\"]\n",
    "\n",
    "df[numeric_columns] = scaler.fit_transform(df[numeric_columns])"
   ]
  },
  {
   "cell_type": "code",
   "execution_count": 79,
   "id": "cd20ff71",
   "metadata": {
    "execution": {
     "iopub.execute_input": "2025-06-10T12:55:02.882365Z",
     "iopub.status.busy": "2025-06-10T12:55:02.881999Z",
     "iopub.status.idle": "2025-06-10T12:55:02.898098Z",
     "shell.execute_reply": "2025-06-10T12:55:02.897185Z"
    },
    "id": "0zeZHQswdlSb",
    "outputId": "15f27b1c-529b-4716-f88a-aff568c03cbe",
    "papermill": {
     "duration": 0.051003,
     "end_time": "2025-06-10T12:55:02.899702",
     "exception": false,
     "start_time": "2025-06-10T12:55:02.848699",
     "status": "completed"
    },
    "tags": []
   },
   "outputs": [
    {
     "data": {
      "text/html": [
       "<div>\n",
       "<style scoped>\n",
       "    .dataframe tbody tr th:only-of-type {\n",
       "        vertical-align: middle;\n",
       "    }\n",
       "\n",
       "    .dataframe tbody tr th {\n",
       "        vertical-align: top;\n",
       "    }\n",
       "\n",
       "    .dataframe thead th {\n",
       "        text-align: right;\n",
       "    }\n",
       "</style>\n",
       "<table border=\"1\" class=\"dataframe\">\n",
       "  <thead>\n",
       "    <tr style=\"text-align: right;\">\n",
       "      <th></th>\n",
       "      <th>species</th>\n",
       "      <th>island</th>\n",
       "      <th>bill_length_mm</th>\n",
       "      <th>bill_depth_mm</th>\n",
       "      <th>flipper_length_mm</th>\n",
       "      <th>body_mass_g</th>\n",
       "      <th>sex</th>\n",
       "    </tr>\n",
       "  </thead>\n",
       "  <tbody>\n",
       "    <tr>\n",
       "      <th>0</th>\n",
       "      <td>Adelie</td>\n",
       "      <td>Torgersen</td>\n",
       "      <td>0.254545</td>\n",
       "      <td>0.666667</td>\n",
       "      <td>0.152542</td>\n",
       "      <td>0.291667</td>\n",
       "      <td>male</td>\n",
       "    </tr>\n",
       "    <tr>\n",
       "      <th>1</th>\n",
       "      <td>Adelie</td>\n",
       "      <td>Torgersen</td>\n",
       "      <td>0.269091</td>\n",
       "      <td>0.511905</td>\n",
       "      <td>0.237288</td>\n",
       "      <td>0.305556</td>\n",
       "      <td>female</td>\n",
       "    </tr>\n",
       "    <tr>\n",
       "      <th>2</th>\n",
       "      <td>Adelie</td>\n",
       "      <td>Torgersen</td>\n",
       "      <td>0.298182</td>\n",
       "      <td>0.583333</td>\n",
       "      <td>0.389831</td>\n",
       "      <td>0.152778</td>\n",
       "      <td>female</td>\n",
       "    </tr>\n",
       "    <tr>\n",
       "      <th>4</th>\n",
       "      <td>Adelie</td>\n",
       "      <td>Torgersen</td>\n",
       "      <td>0.167273</td>\n",
       "      <td>0.738095</td>\n",
       "      <td>0.355932</td>\n",
       "      <td>0.208333</td>\n",
       "      <td>female</td>\n",
       "    </tr>\n",
       "    <tr>\n",
       "      <th>5</th>\n",
       "      <td>Adelie</td>\n",
       "      <td>Torgersen</td>\n",
       "      <td>0.261818</td>\n",
       "      <td>0.892857</td>\n",
       "      <td>0.305085</td>\n",
       "      <td>0.263889</td>\n",
       "      <td>male</td>\n",
       "    </tr>\n",
       "    <tr>\n",
       "      <th>...</th>\n",
       "      <td>...</td>\n",
       "      <td>...</td>\n",
       "      <td>...</td>\n",
       "      <td>...</td>\n",
       "      <td>...</td>\n",
       "      <td>...</td>\n",
       "      <td>...</td>\n",
       "    </tr>\n",
       "    <tr>\n",
       "      <th>339</th>\n",
       "      <td>Chinstrap</td>\n",
       "      <td>Dream</td>\n",
       "      <td>0.861818</td>\n",
       "      <td>0.797619</td>\n",
       "      <td>0.593220</td>\n",
       "      <td>0.361111</td>\n",
       "      <td>male</td>\n",
       "    </tr>\n",
       "    <tr>\n",
       "      <th>340</th>\n",
       "      <td>Chinstrap</td>\n",
       "      <td>Dream</td>\n",
       "      <td>0.414545</td>\n",
       "      <td>0.595238</td>\n",
       "      <td>0.508475</td>\n",
       "      <td>0.194444</td>\n",
       "      <td>female</td>\n",
       "    </tr>\n",
       "    <tr>\n",
       "      <th>341</th>\n",
       "      <td>Chinstrap</td>\n",
       "      <td>Dream</td>\n",
       "      <td>0.636364</td>\n",
       "      <td>0.607143</td>\n",
       "      <td>0.355932</td>\n",
       "      <td>0.298611</td>\n",
       "      <td>male</td>\n",
       "    </tr>\n",
       "    <tr>\n",
       "      <th>342</th>\n",
       "      <td>Chinstrap</td>\n",
       "      <td>Dream</td>\n",
       "      <td>0.680000</td>\n",
       "      <td>0.702381</td>\n",
       "      <td>0.644068</td>\n",
       "      <td>0.388889</td>\n",
       "      <td>male</td>\n",
       "    </tr>\n",
       "    <tr>\n",
       "      <th>343</th>\n",
       "      <td>Chinstrap</td>\n",
       "      <td>Dream</td>\n",
       "      <td>0.658182</td>\n",
       "      <td>0.666667</td>\n",
       "      <td>0.440678</td>\n",
       "      <td>0.298611</td>\n",
       "      <td>female</td>\n",
       "    </tr>\n",
       "  </tbody>\n",
       "</table>\n",
       "<p>342 rows × 7 columns</p>\n",
       "</div>"
      ],
      "text/plain": [
       "       species     island  bill_length_mm  bill_depth_mm  flipper_length_mm  \\\n",
       "0       Adelie  Torgersen        0.254545       0.666667           0.152542   \n",
       "1       Adelie  Torgersen        0.269091       0.511905           0.237288   \n",
       "2       Adelie  Torgersen        0.298182       0.583333           0.389831   \n",
       "4       Adelie  Torgersen        0.167273       0.738095           0.355932   \n",
       "5       Adelie  Torgersen        0.261818       0.892857           0.305085   \n",
       "..         ...        ...             ...            ...                ...   \n",
       "339  Chinstrap      Dream        0.861818       0.797619           0.593220   \n",
       "340  Chinstrap      Dream        0.414545       0.595238           0.508475   \n",
       "341  Chinstrap      Dream        0.636364       0.607143           0.355932   \n",
       "342  Chinstrap      Dream        0.680000       0.702381           0.644068   \n",
       "343  Chinstrap      Dream        0.658182       0.666667           0.440678   \n",
       "\n",
       "     body_mass_g     sex  \n",
       "0       0.291667    male  \n",
       "1       0.305556  female  \n",
       "2       0.152778  female  \n",
       "4       0.208333  female  \n",
       "5       0.263889    male  \n",
       "..           ...     ...  \n",
       "339     0.361111    male  \n",
       "340     0.194444  female  \n",
       "341     0.298611    male  \n",
       "342     0.388889    male  \n",
       "343     0.298611  female  \n",
       "\n",
       "[342 rows x 7 columns]"
      ]
     },
     "execution_count": 79,
     "metadata": {},
     "output_type": "execute_result"
    }
   ],
   "source": [
    "df"
   ]
  },
  {
   "cell_type": "markdown",
   "id": "9bbaddaa",
   "metadata": {
    "id": "X3lXh3jPeO-e",
    "papermill": {
     "duration": 0.03152,
     "end_time": "2025-06-10T12:55:02.963945",
     "exception": false,
     "start_time": "2025-06-10T12:55:02.932425",
     "status": "completed"
    },
    "tags": []
   },
   "source": [
    "### Длина клюва в миллиметрах"
   ]
  },
  {
   "cell_type": "code",
   "execution_count": 80,
   "id": "42c99c84",
   "metadata": {
    "execution": {
     "iopub.execute_input": "2025-06-10T12:55:03.027946Z",
     "iopub.status.busy": "2025-06-10T12:55:03.027026Z",
     "iopub.status.idle": "2025-06-10T12:55:03.031759Z",
     "shell.execute_reply": "2025-06-10T12:55:03.030855Z"
    },
    "id": "QGAfRjUEeO-f",
    "papermill": {
     "duration": 0.038455,
     "end_time": "2025-06-10T12:55:03.033507",
     "exception": false,
     "start_time": "2025-06-10T12:55:02.995052",
     "status": "completed"
    },
    "tags": []
   },
   "outputs": [],
   "source": [
    "bill_length_mm = df['bill_length_mm']"
   ]
  },
  {
   "cell_type": "code",
   "execution_count": 81,
   "id": "bf2713f6",
   "metadata": {
    "execution": {
     "iopub.execute_input": "2025-06-10T12:55:03.099022Z",
     "iopub.status.busy": "2025-06-10T12:55:03.098707Z",
     "iopub.status.idle": "2025-06-10T12:55:03.104811Z",
     "shell.execute_reply": "2025-06-10T12:55:03.103823Z"
    },
    "id": "yFL_UZ-OeO-f",
    "outputId": "0cc8ca98-ed50-4277-8b6a-957943531c3a",
    "papermill": {
     "duration": 0.039886,
     "end_time": "2025-06-10T12:55:03.106379",
     "exception": false,
     "start_time": "2025-06-10T12:55:03.066493",
     "status": "completed"
    },
    "tags": []
   },
   "outputs": [
    {
     "data": {
      "text/plain": [
       "(0.0, 0.9999999999999998, 0.42988835725677826, 0.4490909090909091)"
      ]
     },
     "execution_count": 81,
     "metadata": {},
     "output_type": "execute_result"
    }
   ],
   "source": [
    "bill_length_mm.min(), bill_length_mm.max(), bill_length_mm.mean(), bill_length_mm.median()"
   ]
  },
  {
   "cell_type": "code",
   "execution_count": 82,
   "id": "8624c6b9",
   "metadata": {
    "execution": {
     "iopub.execute_input": "2025-06-10T12:55:03.172287Z",
     "iopub.status.busy": "2025-06-10T12:55:03.171582Z",
     "iopub.status.idle": "2025-06-10T12:55:03.455316Z",
     "shell.execute_reply": "2025-06-10T12:55:03.454441Z"
    },
    "id": "HzGY2cE-ebg3",
    "outputId": "023a4206-3761-46f2-d564-ec339f8c99fc",
    "papermill": {
     "duration": 0.318738,
     "end_time": "2025-06-10T12:55:03.457550",
     "exception": false,
     "start_time": "2025-06-10T12:55:03.138812",
     "status": "completed"
    },
    "tags": []
   },
   "outputs": [
    {
     "data": {
      "image/png": "[encoded data removed]",
      "text/plain": [
       "<Figure size 1200x700 with 1 Axes>"
      ]
     },
     "metadata": {},
     "output_type": "display_data"
    }
   ],
   "source": [
    "plt.figure(figsize=(12, 7))\n",
    "sns.histplot(bill_length_mm, bins=25, kde=True, color=\"blue\")\n",
    "plt.title(\"Длина клюва (Нормализированное)\")\n",
    "plt.xlabel(\"Длина\")\n",
    "plt.show()"
   ]
  },
  {
   "cell_type": "markdown",
   "id": "f3ab7bde",
   "metadata": {
    "id": "vti79nVAeO-f",
    "papermill": {
     "duration": 0.031639,
     "end_time": "2025-06-10T12:55:03.522975",
     "exception": false,
     "start_time": "2025-06-10T12:55:03.491336",
     "status": "completed"
    },
    "tags": []
   },
   "source": [
    "### Масса тела в граммах\n",
    "\n"
   ]
  },
  {
   "cell_type": "code",
   "execution_count": 83,
   "id": "ed034ac2",
   "metadata": {
    "execution": {
     "iopub.execute_input": "2025-06-10T12:55:03.589351Z",
     "iopub.status.busy": "2025-06-10T12:55:03.588911Z",
     "iopub.status.idle": "2025-06-10T12:55:03.593686Z",
     "shell.execute_reply": "2025-06-10T12:55:03.592742Z"
    },
    "id": "CvgdUJzJeO-f",
    "papermill": {
     "duration": 0.039843,
     "end_time": "2025-06-10T12:55:03.595290",
     "exception": false,
     "start_time": "2025-06-10T12:55:03.555447",
     "status": "completed"
    },
    "tags": []
   },
   "outputs": [],
   "source": [
    "body_mass_g = df['body_mass_g']"
   ]
  },
  {
   "cell_type": "code",
   "execution_count": 84,
   "id": "396c9f24",
   "metadata": {
    "execution": {
     "iopub.execute_input": "2025-06-10T12:55:03.661605Z",
     "iopub.status.busy": "2025-06-10T12:55:03.661301Z",
     "iopub.status.idle": "2025-06-10T12:55:03.668144Z",
     "shell.execute_reply": "2025-06-10T12:55:03.667210Z"
    },
    "id": "w2UbvSIkeO-f",
    "outputId": "8e0d5df6-c2eb-4c72-cbfd-3b7306b72516",
    "papermill": {
     "duration": 0.042633,
     "end_time": "2025-06-10T12:55:03.669828",
     "exception": false,
     "start_time": "2025-06-10T12:55:03.627195",
     "status": "completed"
    },
    "tags": []
   },
   "outputs": [
    {
     "data": {
      "text/plain": [
       "(0.0, 1.0, 0.41715399610136455, 0.375)"
      ]
     },
     "execution_count": 84,
     "metadata": {},
     "output_type": "execute_result"
    }
   ],
   "source": [
    "body_mass_g.min(), body_mass_g.max(), body_mass_g.mean(), body_mass_g.median()"
   ]
  },
  {
   "cell_type": "code",
   "execution_count": 85,
   "id": "52636a9d",
   "metadata": {
    "execution": {
     "iopub.execute_input": "2025-06-10T12:55:03.740460Z",
     "iopub.status.busy": "2025-06-10T12:55:03.740127Z",
     "iopub.status.idle": "2025-06-10T12:55:04.020152Z",
     "shell.execute_reply": "2025-06-10T12:55:04.019121Z"
    },
    "id": "UwCUd1oQebg3",
    "outputId": "b7bac620-dea9-41d5-8227-c7441a5f4a67",
    "papermill": {
     "duration": 0.316207,
     "end_time": "2025-06-10T12:55:04.021925",
     "exception": false,
     "start_time": "2025-06-10T12:55:03.705718",
     "status": "completed"
    },
    "tags": []
   },
   "outputs": [
    {
     "data": {
      "image/png": "[encoded data removed]",
      "text/plain": [
       "<Figure size 1200x700 with 1 Axes>"
      ]
     },
     "metadata": {},
     "output_type": "display_data"
    }
   ],
   "source": [
    "plt.figure(figsize=(12, 7))\n",
    "sns.histplot(body_mass_g, bins=25, kde=True, color=\"blue\")\n",
    "plt.title(\"Масса тела (Нормализированное)\")\n",
    "plt.xlabel(\"Масса\")\n",
    "plt.show()"
   ]
  },
  {
   "cell_type": "markdown",
   "id": "60b5dd1d",
   "metadata": {
    "id": "WN9KKkTuewdz",
    "papermill": {
     "duration": 0.033839,
     "end_time": "2025-06-10T12:55:04.092754",
     "exception": false,
     "start_time": "2025-06-10T12:55:04.058915",
     "status": "completed"
    },
    "tags": []
   },
   "source": [
    "## 10. Кодирование категориальных признаков\n",
    "\n"
   ]
  },
  {
   "cell_type": "markdown",
   "id": "8fc3763d",
   "metadata": {
    "id": "uOQmH_5ntKOj",
    "papermill": {
     "duration": 0.032355,
     "end_time": "2025-06-10T12:55:04.158279",
     "exception": false,
     "start_time": "2025-06-10T12:55:04.125924",
     "status": "completed"
    },
    "tags": []
   },
   "source": [
    "### LabelEncoder"
   ]
  },
  {
   "cell_type": "code",
   "execution_count": 86,
   "id": "d8c96bb1",
   "metadata": {
    "execution": {
     "iopub.execute_input": "2025-06-10T12:55:04.226029Z",
     "iopub.status.busy": "2025-06-10T12:55:04.225691Z",
     "iopub.status.idle": "2025-06-10T12:55:04.233371Z",
     "shell.execute_reply": "2025-06-10T12:55:04.232469Z"
    },
    "id": "3QWVh6mqfzjS",
    "papermill": {
     "duration": 0.042909,
     "end_time": "2025-06-10T12:55:04.234821",
     "exception": false,
     "start_time": "2025-06-10T12:55:04.191912",
     "status": "completed"
    },
    "tags": []
   },
   "outputs": [],
   "source": [
    "encoder = LabelEncoder()\n",
    "\n",
    "df[\"sex\"] = encoder.fit_transform(df[\"sex\"])\n",
    "df[\"island\"] = encoder.fit_transform(df[\"island\"])\n",
    "df[\"species\"] = encoder.fit_transform(df[\"species\"])"
   ]
  },
  {
   "cell_type": "code",
   "execution_count": 87,
   "id": "e8abe1a2",
   "metadata": {
    "execution": {
     "iopub.execute_input": "2025-06-10T12:55:04.303692Z",
     "iopub.status.busy": "2025-06-10T12:55:04.303347Z",
     "iopub.status.idle": "2025-06-10T12:55:04.314876Z",
     "shell.execute_reply": "2025-06-10T12:55:04.313994Z"
    },
    "id": "IaRFVcrzf13C",
    "outputId": "15c07661-e762-4f6b-d944-f6abb9a195e6",
    "papermill": {
     "duration": 0.048064,
     "end_time": "2025-06-10T12:55:04.316354",
     "exception": false,
     "start_time": "2025-06-10T12:55:04.268290",
     "status": "completed"
    },
    "tags": []
   },
   "outputs": [
    {
     "data": {
      "text/html": [
       "<div>\n",
       "<style scoped>\n",
       "    .dataframe tbody tr th:only-of-type {\n",
       "        vertical-align: middle;\n",
       "    }\n",
       "\n",
       "    .dataframe tbody tr th {\n",
       "        vertical-align: top;\n",
       "    }\n",
       "\n",
       "    .dataframe thead th {\n",
       "        text-align: right;\n",
       "    }\n",
       "</style>\n",
       "<table border=\"1\" class=\"dataframe\">\n",
       "  <thead>\n",
       "    <tr style=\"text-align: right;\">\n",
       "      <th></th>\n",
       "      <th>species</th>\n",
       "      <th>island</th>\n",
       "      <th>bill_length_mm</th>\n",
       "      <th>bill_depth_mm</th>\n",
       "      <th>flipper_length_mm</th>\n",
       "      <th>body_mass_g</th>\n",
       "      <th>sex</th>\n",
       "    </tr>\n",
       "  </thead>\n",
       "  <tbody>\n",
       "    <tr>\n",
       "      <th>0</th>\n",
       "      <td>0</td>\n",
       "      <td>2</td>\n",
       "      <td>0.254545</td>\n",
       "      <td>0.666667</td>\n",
       "      <td>0.152542</td>\n",
       "      <td>0.291667</td>\n",
       "      <td>1</td>\n",
       "    </tr>\n",
       "    <tr>\n",
       "      <th>1</th>\n",
       "      <td>0</td>\n",
       "      <td>2</td>\n",
       "      <td>0.269091</td>\n",
       "      <td>0.511905</td>\n",
       "      <td>0.237288</td>\n",
       "      <td>0.305556</td>\n",
       "      <td>0</td>\n",
       "    </tr>\n",
       "    <tr>\n",
       "      <th>2</th>\n",
       "      <td>0</td>\n",
       "      <td>2</td>\n",
       "      <td>0.298182</td>\n",
       "      <td>0.583333</td>\n",
       "      <td>0.389831</td>\n",
       "      <td>0.152778</td>\n",
       "      <td>0</td>\n",
       "    </tr>\n",
       "    <tr>\n",
       "      <th>4</th>\n",
       "      <td>0</td>\n",
       "      <td>2</td>\n",
       "      <td>0.167273</td>\n",
       "      <td>0.738095</td>\n",
       "      <td>0.355932</td>\n",
       "      <td>0.208333</td>\n",
       "      <td>0</td>\n",
       "    </tr>\n",
       "    <tr>\n",
       "      <th>5</th>\n",
       "      <td>0</td>\n",
       "      <td>2</td>\n",
       "      <td>0.261818</td>\n",
       "      <td>0.892857</td>\n",
       "      <td>0.305085</td>\n",
       "      <td>0.263889</td>\n",
       "      <td>1</td>\n",
       "    </tr>\n",
       "  </tbody>\n",
       "</table>\n",
       "</div>"
      ],
      "text/plain": [
       "   species  island  bill_length_mm  bill_depth_mm  flipper_length_mm  \\\n",
       "0        0       2        0.254545       0.666667           0.152542   \n",
       "1        0       2        0.269091       0.511905           0.237288   \n",
       "2        0       2        0.298182       0.583333           0.389831   \n",
       "4        0       2        0.167273       0.738095           0.355932   \n",
       "5        0       2        0.261818       0.892857           0.305085   \n",
       "\n",
       "   body_mass_g  sex  \n",
       "0     0.291667    1  \n",
       "1     0.305556    0  \n",
       "2     0.152778    0  \n",
       "4     0.208333    0  \n",
       "5     0.263889    1  "
      ]
     },
     "execution_count": 87,
     "metadata": {},
     "output_type": "execute_result"
    }
   ],
   "source": [
    "df.head()"
   ]
  },
  {
   "cell_type": "markdown",
   "id": "b69c1642",
   "metadata": {
    "id": "Aj0tPQJrtHcN",
    "papermill": {
     "duration": 0.036678,
     "end_time": "2025-06-10T12:55:04.386708",
     "exception": false,
     "start_time": "2025-06-10T12:55:04.350030",
     "status": "completed"
    },
    "tags": []
   },
   "source": [
    "### One-Hot Encoding (OHE)"
   ]
  },
  {
   "cell_type": "code",
   "execution_count": 88,
   "id": "b98bb36c",
   "metadata": {
    "execution": {
     "iopub.execute_input": "2025-06-10T12:55:04.455507Z",
     "iopub.status.busy": "2025-06-10T12:55:04.455133Z",
     "iopub.status.idle": "2025-06-10T12:55:04.465631Z",
     "shell.execute_reply": "2025-06-10T12:55:04.464690Z"
    },
    "id": "Sjf7CDAInh8R",
    "papermill": {
     "duration": 0.046727,
     "end_time": "2025-06-10T12:55:04.467132",
     "exception": false,
     "start_time": "2025-06-10T12:55:04.420405",
     "status": "completed"
    },
    "tags": []
   },
   "outputs": [],
   "source": [
    "df_encoded = pd.get_dummies(df, columns=[\"sex\", \"island\", \"species\"])"
   ]
  },
  {
   "cell_type": "code",
   "execution_count": 89,
   "id": "ca414673",
   "metadata": {
    "execution": {
     "iopub.execute_input": "2025-06-10T12:55:04.535511Z",
     "iopub.status.busy": "2025-06-10T12:55:04.534533Z",
     "iopub.status.idle": "2025-06-10T12:55:04.550234Z",
     "shell.execute_reply": "2025-06-10T12:55:04.549246Z"
    },
    "id": "nBSd3v1lnjNN",
    "outputId": "384ee6a2-b98b-4f3f-c2f8-a487737a6237",
    "papermill": {
     "duration": 0.051123,
     "end_time": "2025-06-10T12:55:04.551736",
     "exception": false,
     "start_time": "2025-06-10T12:55:04.500613",
     "status": "completed"
    },
    "tags": []
   },
   "outputs": [
    {
     "data": {
      "text/html": [
       "<div>\n",
       "<style scoped>\n",
       "    .dataframe tbody tr th:only-of-type {\n",
       "        vertical-align: middle;\n",
       "    }\n",
       "\n",
       "    .dataframe tbody tr th {\n",
       "        vertical-align: top;\n",
       "    }\n",
       "\n",
       "    .dataframe thead th {\n",
       "        text-align: right;\n",
       "    }\n",
       "</style>\n",
       "<table border=\"1\" class=\"dataframe\">\n",
       "  <thead>\n",
       "    <tr style=\"text-align: right;\">\n",
       "      <th></th>\n",
       "      <th>bill_length_mm</th>\n",
       "      <th>bill_depth_mm</th>\n",
       "      <th>flipper_length_mm</th>\n",
       "      <th>body_mass_g</th>\n",
       "      <th>sex_0</th>\n",
       "      <th>sex_1</th>\n",
       "      <th>island_0</th>\n",
       "      <th>island_1</th>\n",
       "      <th>island_2</th>\n",
       "      <th>species_0</th>\n",
       "      <th>species_1</th>\n",
       "      <th>species_2</th>\n",
       "    </tr>\n",
       "  </thead>\n",
       "  <tbody>\n",
       "    <tr>\n",
       "      <th>0</th>\n",
       "      <td>0.254545</td>\n",
       "      <td>0.666667</td>\n",
       "      <td>0.152542</td>\n",
       "      <td>0.291667</td>\n",
       "      <td>False</td>\n",
       "      <td>True</td>\n",
       "      <td>False</td>\n",
       "      <td>False</td>\n",
       "      <td>True</td>\n",
       "      <td>True</td>\n",
       "      <td>False</td>\n",
       "      <td>False</td>\n",
       "    </tr>\n",
       "    <tr>\n",
       "      <th>1</th>\n",
       "      <td>0.269091</td>\n",
       "      <td>0.511905</td>\n",
       "      <td>0.237288</td>\n",
       "      <td>0.305556</td>\n",
       "      <td>True</td>\n",
       "      <td>False</td>\n",
       "      <td>False</td>\n",
       "      <td>False</td>\n",
       "      <td>True</td>\n",
       "      <td>True</td>\n",
       "      <td>False</td>\n",
       "      <td>False</td>\n",
       "    </tr>\n",
       "    <tr>\n",
       "      <th>2</th>\n",
       "      <td>0.298182</td>\n",
       "      <td>0.583333</td>\n",
       "      <td>0.389831</td>\n",
       "      <td>0.152778</td>\n",
       "      <td>True</td>\n",
       "      <td>False</td>\n",
       "      <td>False</td>\n",
       "      <td>False</td>\n",
       "      <td>True</td>\n",
       "      <td>True</td>\n",
       "      <td>False</td>\n",
       "      <td>False</td>\n",
       "    </tr>\n",
       "    <tr>\n",
       "      <th>4</th>\n",
       "      <td>0.167273</td>\n",
       "      <td>0.738095</td>\n",
       "      <td>0.355932</td>\n",
       "      <td>0.208333</td>\n",
       "      <td>True</td>\n",
       "      <td>False</td>\n",
       "      <td>False</td>\n",
       "      <td>False</td>\n",
       "      <td>True</td>\n",
       "      <td>True</td>\n",
       "      <td>False</td>\n",
       "      <td>False</td>\n",
       "    </tr>\n",
       "    <tr>\n",
       "      <th>5</th>\n",
       "      <td>0.261818</td>\n",
       "      <td>0.892857</td>\n",
       "      <td>0.305085</td>\n",
       "      <td>0.263889</td>\n",
       "      <td>False</td>\n",
       "      <td>True</td>\n",
       "      <td>False</td>\n",
       "      <td>False</td>\n",
       "      <td>True</td>\n",
       "      <td>True</td>\n",
       "      <td>False</td>\n",
       "      <td>False</td>\n",
       "    </tr>\n",
       "  </tbody>\n",
       "</table>\n",
       "</div>"
      ],
      "text/plain": [
       "   bill_length_mm  bill_depth_mm  flipper_length_mm  body_mass_g  sex_0  \\\n",
       "0        0.254545       0.666667           0.152542     0.291667  False   \n",
       "1        0.269091       0.511905           0.237288     0.305556   True   \n",
       "2        0.298182       0.583333           0.389831     0.152778   True   \n",
       "4        0.167273       0.738095           0.355932     0.208333   True   \n",
       "5        0.261818       0.892857           0.305085     0.263889  False   \n",
       "\n",
       "   sex_1  island_0  island_1  island_2  species_0  species_1  species_2  \n",
       "0   True     False     False      True       True      False      False  \n",
       "1  False     False     False      True       True      False      False  \n",
       "2  False     False     False      True       True      False      False  \n",
       "4  False     False     False      True       True      False      False  \n",
       "5   True     False     False      True       True      False      False  "
      ]
     },
     "execution_count": 89,
     "metadata": {},
     "output_type": "execute_result"
    }
   ],
   "source": [
    "df_encoded.head()"
   ]
  },
  {
   "cell_type": "markdown",
   "id": "97827e15",
   "metadata": {
    "id": "Z6j_6pjpf7ky",
    "papermill": {
     "duration": 0.035481,
     "end_time": "2025-06-10T12:55:04.688961",
     "exception": false,
     "start_time": "2025-06-10T12:55:04.653480",
     "status": "completed"
    },
    "tags": []
   },
   "source": [
    "## 11. Применение метода главных компонент\n",
    "\n"
   ]
  },
  {
   "cell_type": "code",
   "execution_count": 90,
   "id": "57d86513",
   "metadata": {
    "execution": {
     "iopub.execute_input": "2025-06-10T12:55:04.758141Z",
     "iopub.status.busy": "2025-06-10T12:55:04.757836Z",
     "iopub.status.idle": "2025-06-10T12:55:04.777673Z",
     "shell.execute_reply": "2025-06-10T12:55:04.776718Z"
    },
    "id": "QDdWDaNkgjC6",
    "papermill": {
     "duration": 0.056281,
     "end_time": "2025-06-10T12:55:04.779326",
     "exception": false,
     "start_time": "2025-06-10T12:55:04.723045",
     "status": "completed"
    },
    "tags": []
   },
   "outputs": [],
   "source": [
    "pca = PCA(n_components=2)\n",
    "df_pca = pca.fit_transform(df_encoded)\n",
    "\n",
    "df_pca = pd.DataFrame(df_pca, columns=[\"PC1\", \"PC2\"])"
   ]
  },
  {
   "cell_type": "code",
   "execution_count": 91,
   "id": "9659b496",
   "metadata": {
    "execution": {
     "iopub.execute_input": "2025-06-10T12:55:04.848899Z",
     "iopub.status.busy": "2025-06-10T12:55:04.848565Z",
     "iopub.status.idle": "2025-06-10T12:55:04.857514Z",
     "shell.execute_reply": "2025-06-10T12:55:04.856710Z"
    },
    "id": "GKjVH7o-hNKC",
    "outputId": "6dade7e2-9ed3-4cf2-d8fc-661723afff98",
    "papermill": {
     "duration": 0.045344,
     "end_time": "2025-06-10T12:55:04.859142",
     "exception": false,
     "start_time": "2025-06-10T12:55:04.813798",
     "status": "completed"
    },
    "tags": []
   },
   "outputs": [
    {
     "data": {
      "text/html": [
       "<div>\n",
       "<style scoped>\n",
       "    .dataframe tbody tr th:only-of-type {\n",
       "        vertical-align: middle;\n",
       "    }\n",
       "\n",
       "    .dataframe tbody tr th {\n",
       "        vertical-align: top;\n",
       "    }\n",
       "\n",
       "    .dataframe thead th {\n",
       "        text-align: right;\n",
       "    }\n",
       "</style>\n",
       "<table border=\"1\" class=\"dataframe\">\n",
       "  <thead>\n",
       "    <tr style=\"text-align: right;\">\n",
       "      <th></th>\n",
       "      <th>PC1</th>\n",
       "      <th>PC2</th>\n",
       "    </tr>\n",
       "  </thead>\n",
       "  <tbody>\n",
       "    <tr>\n",
       "      <th>0</th>\n",
       "      <td>-0.683319</td>\n",
       "      <td>0.599505</td>\n",
       "    </tr>\n",
       "    <tr>\n",
       "      <th>1</th>\n",
       "      <td>-0.701612</td>\n",
       "      <td>-0.775364</td>\n",
       "    </tr>\n",
       "    <tr>\n",
       "      <th>2</th>\n",
       "      <td>-0.710100</td>\n",
       "      <td>-0.769270</td>\n",
       "    </tr>\n",
       "    <tr>\n",
       "      <th>3</th>\n",
       "      <td>-0.751641</td>\n",
       "      <td>-0.758540</td>\n",
       "    </tr>\n",
       "    <tr>\n",
       "      <th>4</th>\n",
       "      <td>-0.699730</td>\n",
       "      <td>0.639248</td>\n",
       "    </tr>\n",
       "  </tbody>\n",
       "</table>\n",
       "</div>"
      ],
      "text/plain": [
       "        PC1       PC2\n",
       "0 -0.683319  0.599505\n",
       "1 -0.701612 -0.775364\n",
       "2 -0.710100 -0.769270\n",
       "3 -0.751641 -0.758540\n",
       "4 -0.699730  0.639248"
      ]
     },
     "execution_count": 91,
     "metadata": {},
     "output_type": "execute_result"
    }
   ],
   "source": [
    "df_pca.head()"
   ]
  },
  {
   "cell_type": "code",
   "execution_count": 92,
   "id": "6bc5efe1",
   "metadata": {
    "execution": {
     "iopub.execute_input": "2025-06-10T12:55:04.927508Z",
     "iopub.status.busy": "2025-06-10T12:55:04.927205Z",
     "iopub.status.idle": "2025-06-10T12:55:05.158021Z",
     "shell.execute_reply": "2025-06-10T12:55:05.156806Z"
    },
    "id": "lX25CPhSgpOD",
    "outputId": "3f80b54a-3400-4309-fd37-d65492dce2d1",
    "papermill": {
     "duration": 0.267088,
     "end_time": "2025-06-10T12:55:05.160113",
     "exception": false,
     "start_time": "2025-06-10T12:55:04.893025",
     "status": "completed"
    },
    "tags": []
   },
   "outputs": [
    {
     "data": {
      "image/png": "[encoded data removed]",
      "text/plain": [
       "<Figure size 1200x700 with 1 Axes>"
      ]
     },
     "metadata": {},
     "output_type": "display_data"
    }
   ],
   "source": [
    "plt.figure(figsize=(12, 7))\n",
    "plt.scatter(df_pca[\"PC1\"], df_pca[\"PC2\"], alpha=0.7, color = 'blue')\n",
    "plt.xlabel(\"Главная компонента 1\")\n",
    "plt.ylabel(\"Главная компонента 2\")\n",
    "plt.title(\"PCA: уменьшение размерности до 2 компонент\")\n",
    "plt.show()"
   ]
  }
 ],
 "metadata": {
  "colab": {
   "collapsed_sections": [
    "FlDdWUB9cvYz"
   ],
   "provenance": []
  },
  "kaggle": {
   "accelerator": "none",
   "dataSources": [
    {
     "datasetId": 746570,
     "sourceId": 1292306,
     "sourceType": "datasetVersion"
    }
   ],
   "dockerImageVersionId": 31040,
   "isGpuEnabled": false,
   "isInternetEnabled": true,
   "language": "python",
   "sourceType": "notebook"
  },
  "kernelspec": {
   "display_name": "Python 3",
   "name": "python3"
  },
  "language_info": {
   "codemirror_mode": {
    "name": "ipython",
    "version": 3
   },
   "file_extension": ".py",
   "mimetype": "text/x-python",
   "name": "python",
   "nbconvert_exporter": "python",
   "pygments_lexer": "ipython3",
   "version": "3.11.11"
  },
  "papermill": {
   "default_parameters": {},
   "duration": 23.534674,
   "end_time": "2025-06-10T12:55:06.020959",
   "environment_variables": {},
   "exception": null,
   "input_path": "__notebook__.ipynb",
   "output_path": "__notebook__.ipynb",
   "parameters": {},
   "start_time": "2025-06-10T12:54:42.486285",
   "version": "2.6.0"
  }
 },
 "nbformat": 4,
 "nbformat_minor": 5
}
